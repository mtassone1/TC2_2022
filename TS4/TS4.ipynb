{
 "cells": [
  {
   "cell_type": "markdown",
   "id": "4a7d088f",
   "metadata": {},
   "source": [
    "# Tarea Semanal N°4\n",
    "###### Matías Blas Tassone R4052"
   ]
  },
  {
   "cell_type": "markdown",
   "id": "7f7112d2",
   "metadata": {},
   "source": [
    "&emsp;1.&emsp; $f_o=\\sqrt{f_1\\cdot f_2}=22 kHz$&emsp;&rarr;&emsp;$f_1 \\cdot f_2 =484 MHz^2$\n",
    "&emsp;&emsp;$Q=\\frac{f_o}{f_2-f_1}=5$&emsp;&rarr;&emsp;\n",
    "$f_2-f_1 = \\frac{22kHz}{5}=4.4 kHz$"
   ]
  },
  {
   "cell_type": "markdown",
   "id": "f4eb704b",
   "metadata": {},
   "source": [
    "&emsp;&rarr;&emsp;$f_1\\cdot(4.4kHz+f_1) = 484MHz^2$&emsp;&rarr;&emsp;$f_1^2+4.4kHz\\cdot f_1 - 484MHz^2=0$"
   ]
  },
  {
   "cell_type": "markdown",
   "id": "43b7d867",
   "metadata": {},
   "source": [
    "$f_1=19.9kHz$&emsp;&rarr;&emsp;$f_2=24.3 kHz$"
   ]
  },
  {
   "cell_type": "markdown",
   "id": "eb7b52d8",
   "metadata": {},
   "source": [
    "$f_{s1N}=\\frac{17kHz}{22kHz}=0.77$&emsp;&emsp;$f_{1N}=\\frac{19.9kHz}{22kHz}=0.9$&emsp;&emsp;\n",
    "$f_{oN}=1$&emsp;&emsp;$f_{2N}=\\frac{24.3kHz}{22kHz}=1.1$&emsp;&emsp;$f_{s2N}=\\frac{36kHz}{22kHz}=1.64$&emsp;&emsp;"
   ]
  },
  {
   "cell_type": "markdown",
   "id": "101176f6",
   "metadata": {},
   "source": [
    "<centre><img src=\"./plantilla-norm.png\"></centre>"
   ]
  },
  {
   "cell_type": "markdown",
   "id": "f613ff60",
   "metadata": {},
   "source": [
    "&emsp;2.&emsp;$\\Omega_{S1N}=Q\\cdot \\frac{f_{s1N}^2-1}{f_{s1N}}=5\\cdot \\frac{1.64^2-1}{1.64}$&emsp;&rarr;&emsp;$\\Omega_{S1N}=5.15$"
   ]
  },
  {
   "cell_type": "markdown",
   "id": "1caff622",
   "metadata": {},
   "source": [
    "$\\Omega_{S2N}=Q\\cdot \\frac{f_{s2N}^2-1}{f_{s2N}}=5\\cdot \\frac{0.77^2-1}{0.77}$&emsp;&rarr;&emsp;$\\Omega_{S2N}=-2.64$"
   ]
  },
  {
   "cell_type": "markdown",
   "id": "84af2841",
   "metadata": {},
   "source": [
    "Para la plantilla pasa bajos elijo la $\\Omega_S$ más exigente, es decir la de menor módulo. Para $\\alpha_{min}$ se usará el mismo criterio, que para este caso será la de atenuación mayor."
   ]
  },
  {
   "cell_type": "markdown",
   "id": "e23d5fee",
   "metadata": {},
   "source": [
    "<centre><img src=\"./plantilla-norm-LP.png\"></centre>"
   ]
  },
  {
   "cell_type": "markdown",
   "id": "70853cc2",
   "metadata": {},
   "source": [
    "$$\\epsilon^2=10^{0.1\\cdot \\alpha_{max}}-1=0.122\\;\\;\\;\\;\\;\\;\\;\\;\\;\\;\\alpha_{min}[veces]=251.2\\;\\;\\;\\;\\;\n",
    "\\alpha_{min}=1+\\epsilon^2\\cdot cosh^2(n\\cdot cosh^{-1}(\\Omega_{SN}))\\;\\;\\;\\;\\; n=3$$"
   ]
  },
  {
   "cell_type": "markdown",
   "id": "09efb73e",
   "metadata": {},
   "source": [
    "De la tabla de locación de polos para Chebyshev en la página 288 del Schaumann, se obtiene que"
   ]
  },
  {
   "cell_type": "markdown",
   "id": "90d3fd12",
   "metadata": {},
   "source": [
    "$$p_1=-0.6265 + j0 \\;\\;\\;\\;\\;\\;\\;\\;\\;\\; p_{2,3}=-0.3131 \\pm j1.0219 = 1.07 \\cdot e^{\\pm j72.97°}$$"
   ]
  },
  {
   "cell_type": "markdown",
   "id": "a81d53a6",
   "metadata": {},
   "source": [
    "$$T(s)_{LP}=\\frac{0.625}{s+0.6265}\\cdot \\frac{1.14}{s^2+ 0.63\\cdot s+1.14}\\;\\;\\;\\;\\; \\omega_o = 1.07\\;\\;\\;\\;\\; Q =1.7$$"
   ]
  },
  {
   "cell_type": "markdown",
   "id": "dd55722b",
   "metadata": {},
   "source": [
    "&emsp;3.&emsp; Para la transferencia pasabanda, se usa el núcleo de transformación $S=Q\\cdot \\frac{s^2+1}{s}$"
   ]
  },
  {
   "cell_type": "markdown",
   "id": "75c4e437",
   "metadata": {},
   "source": [
    "$$T(s)_{BP}=\\frac{0.625}{Q\\cdot\\frac{s^2+1}{s}+0.625} \\cdot \\frac{1.14}{(Q\\cdot\\frac{s^2+1}{s})^2+0.63 \\cdot Q\\cdot \\frac{s^2+1}{s} + 1.14}$$"
   ]
  },
  {
   "cell_type": "markdown",
   "id": "257ec659",
   "metadata": {},
   "source": [
    "$$T(s)_{BP}=\\frac{0.625\\cdot s}{5\\cdot s^2+0.625\\cdot s+5} \\cdot \n",
    "\\frac{1.14}{25\\cdot\\frac{s^4+2 \\cdot s^2+1}{s^2}+\\frac{3.15\\cdot s^2+3.15}{s} + 1.14}$$"
   ]
  },
  {
   "cell_type": "markdown",
   "id": "a5bfd5af",
   "metadata": {},
   "source": [
    "$$T(s)_{BP}=\\frac{0.125\\cdot s}{s^2+0.125\\cdot s+1} \\cdot \n",
    "\\frac{1.14}{\\frac{25\\cdot s^4+50 \\cdot s^2+25+3.15\\cdot s^3+3.15\\cdot s+1.14\\cdot s^2}{s^2}}$$"
   ]
  },
  {
   "cell_type": "markdown",
   "id": "a57e2eaa",
   "metadata": {},
   "source": [
    "$$T(s)_{BP}=\\frac{0.125\\cdot s}{s^2+0.125\\cdot s+1} \\cdot \n",
    "\\frac{1.14 \\cdot s^2}{25\\cdot s^4+3.15\\cdot s^3+51.14 \\cdot s^2+3.15\\cdot s+25}$$"
   ]
  },
  {
   "cell_type": "markdown",
   "id": "c3dc47a5",
   "metadata": {},
   "source": [
    "$$T(s)_{BP}=\\frac{0.125\\cdot s}{s^2+0.125\\cdot s+1} \\cdot \n",
    "\\frac{0.0456 \\cdot s^2}{(s^2+0.057\\cdot s+0.816)\\cdot (s^2+0.069\\cdot s+1.226)}^1$$"
   ]
  },
  {
   "cell_type": "markdown",
   "id": "44e1c075",
   "metadata": {},
   "source": [
    "$$T(s)_{BP}=0.0057\\cdot \\frac{s}{s^2+0.125\\cdot s+1} \\cdot \n",
    "\\frac{0.816 \\cdot s}{(s^2+0.057\\cdot s+0.816)}\\cdot\\frac{1.226 \\cdot s}{(s^2+0.069\\cdot s+1.226)}$$"
   ]
  },
  {
   "cell_type": "markdown",
   "id": "d22dd5be",
   "metadata": {},
   "source": [
    "Se debe agregar ganancia para compensar el valor de $0.0057$ de atenuación en la banda de paso, por lo tanto se necesitará un $k=175.5 veces$ ya sea distribuída a lo largo de las 3 etapas o condensada sólo en una de ellas."
   ]
  },
  {
   "cell_type": "markdown",
   "id": "2da59567",
   "metadata": {},
   "source": [
    "$$T(s)_{BP}=\\frac{s}{s^2+0.125\\cdot s+1} \\cdot \n",
    "\\frac{0.816 \\cdot s}{(s^2+0.057\\cdot s+0.816)}\\cdot\\frac{1.226 \\cdot s}{(s^2+0.069\\cdot s+1.226)}$$"
   ]
  },
  {
   "cell_type": "markdown",
   "id": "2ad00f19",
   "metadata": {},
   "source": [
    "$$\\omega_{o1}=1\\;\\;\\;\\;\\; Q_1 = 8\\;\\;\\;\\;\\;\\;\\;\\;\\;\\;\n",
    "\\omega_{o2}=0.9\\;\\;\\;\\;\\; Q_2 = 15.8\\;\\;\\;\\;\\;\\;\\;\\;\\;\\;\n",
    "\\omega_{o3}=1.107\\;\\;\\;\\;\\; Q_3 = 16.05$$"
   ]
  },
  {
   "cell_type": "markdown",
   "id": "dfe6bf17",
   "metadata": {},
   "source": [
    "1- La factorización del denominador se hizo a través del software de WolframAlpha utilizando la fórmula y obteniendo\n",
    "$$Factor[1 + 0.126 x + 2.0456 x^2 + 0.126 x^3 + x^4] = (x^2 + 0.0566029 x + 0.815638) (x^2 + 0.0693971 x + 1.22603)$$"
   ]
  },
  {
   "cell_type": "markdown",
   "id": "ae496784",
   "metadata": {},
   "source": [
    "&emsp;4.&emsp; Para implementar el filtro de orden 6 con secciones pasivas se usa un circuito tanque LC a la salida con una resistencia a la entrada. Para estas secciones no se puede conseguir ganancia. La trasnferencia de cada sección esta dada por la ecuación"
   ]
  },
  {
   "cell_type": "markdown",
   "id": "59fd32da",
   "metadata": {},
   "source": [
    "$$T(s)_{BP2}=\\frac{\\frac{1}{R\\cdot C}\\cdot s}{s^2 +\\frac{1}{R\\cdot C}\\cdot s+\\frac{1}{L\\cdot C}}$$"
   ]
  },
  {
   "cell_type": "markdown",
   "id": "78b3d72a",
   "metadata": {},
   "source": [
    "Como la transferencia esta normalizada en frecuencia e impedancia, todas los valores de $R=1$ y se calculan el resto de los componentes utilizando los valores del punto 3."
   ]
  },
  {
   "cell_type": "markdown",
   "id": "20ffe3bd",
   "metadata": {},
   "source": [
    "$$C=\\frac{Q}{\\omega_o}\\;\\;\\;\\;\\;\\;\\;\\;\\;\\;L=\\frac{1}{\\omega_o\\cdot Q}$$"
   ]
  },
  {
   "cell_type": "markdown",
   "id": "5f79f763",
   "metadata": {},
   "source": [
    "$$C_1 = \\frac{8}{1}=8\\;\\;\\;\\;\\;\\;\\;\\;\\;\\;L_1 = \\frac{1}{8\\cdot 1}=0.125\\;\\;\\;\\;\\;\\;\\;\\;\\;\\;\n",
    "C_2 = \\frac{15.8}{0.9}=17.55\\;\\;\\;\\;\\;\\;\\;\\;\\;\\;L_2 = \\frac{1}{15.8\\cdot 0.9}=0.07$$\n",
    "$$C_3 = \\frac{16.05}{1.107}=14.5\\;\\;\\;\\;\\;\\;\\;\\;\\;\\;L_1 = \\frac{1}{16.05\\cdot 1.107}=0.0563\\;\\;\\;\\;\\;\\;\\;\\;\\;\\;$$"
   ]
  },
  {
   "cell_type": "markdown",
   "id": "cfdeeafd",
   "metadata": {},
   "source": [
    "<centre><img src=\"./circ-norm.png\"></centre>"
   ]
  },
  {
   "cell_type": "markdown",
   "id": "20dc57c6",
   "metadata": {},
   "source": [
    "<centre><img src=\"./resultados-RLC.png\"></centre>"
   ]
  },
  {
   "cell_type": "markdown",
   "id": "9ffeadc4",
   "metadata": {},
   "source": [
    "A este circuito le faltarían $22.44 dB$ de ganancia, por lo que a los valores obtenidos habría que sumarle esta ganancia que no puede obtenerse con circuitos pasivos. Teniendo esto en cuenta quedaría"
   ]
  },
  {
   "cell_type": "markdown",
   "id": "f39552b0",
   "metadata": {},
   "source": [
    "$$\\omega_N = 0.77 \\;\\;\\;\\;\\alpha =26.16 dB\\;\\;\\;\\;\\;\\;\\;\\;\\;\\;\\;\\;\\;\\;\\;\\;\\omega_N = 0.9 \\;\\;\\;\\;\\alpha =2.05 dB$$\n",
    "$$\\omega_N = 1.1 \\;\\;\\;\\;\\alpha =1.3 dB\\;\\;\\;\\;\\;\\;\\;\\;\\;\\;\\;\\;\\;\\;\\;\\;\\omega_N = 1.64 \\;\\;\\;\\;\\alpha =44.306 dB$$"
   ]
  },
  {
   "cell_type": "markdown",
   "id": "d3d48e00",
   "metadata": {},
   "source": [
    "Se observa que no se logra cumplir perfectamente con la atenuación en la banda de paso."
   ]
  },
  {
   "cell_type": "markdown",
   "id": "0f18c1d9",
   "metadata": {},
   "source": [
    "&emsp;5.&emsp; Se cambian los inductores por GICs."
   ]
  },
  {
   "cell_type": "markdown",
   "id": "5d251141",
   "metadata": {},
   "source": [
    "<centre><img src=\"./circ-GIC.png\"></centre>"
   ]
  },
  {
   "cell_type": "markdown",
   "id": "3b6fa54f",
   "metadata": {},
   "source": [
    "<centre><img src=\"./res-GIC.png\"></centre>"
   ]
  }
 ],
 "metadata": {
  "kernelspec": {
   "display_name": "Python 3 (ipykernel)",
   "language": "python",
   "name": "python3"
  },
  "language_info": {
   "codemirror_mode": {
    "name": "ipython",
    "version": 3
   },
   "file_extension": ".py",
   "mimetype": "text/x-python",
   "name": "python",
   "nbconvert_exporter": "python",
   "pygments_lexer": "ipython3",
   "version": "3.9.7"
  }
 },
 "nbformat": 4,
 "nbformat_minor": 5
}
