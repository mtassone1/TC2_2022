{
 "cells": [
  {
   "cell_type": "markdown",
   "id": "553f744d",
   "metadata": {},
   "source": [
    "# Trabajo práctico de laboratorio N°1\n",
    "#### Matías Blas Tassone "
   ]
  },
  {
   "cell_type": "markdown",
   "id": "7f17b002",
   "metadata": {},
   "source": [
    "$\\omega_o=\\frac{1}{80us}=12.5k\\frac{rad}{s}\\;\\;\\;\\;\\;\\;\\;\\;\\;\\;\n",
    "5\\%\\;error\\;en\\;f_1=3kHz\\rightarrow\\omega_1=6\\pi \\;k\\frac{rad}{s}\\;\\;\\;\\;\\;\\;\\;\\;\\;\\alpha=1dB\\;a\\;f_2=2kHz\\rightarrow \\omega_2=4\\pi\\;k\\frac{rad}{s}$"
   ]
  },
  {
   "cell_type": "markdown",
   "id": "d052e17d",
   "metadata": {},
   "source": [
    "$\\omega_{1N}=1.51$&emsp;$\\omega_{2N}=1$&emsp;&rarr;&emsp;$n_1=3$&emsp;$n_2=3$&emsp;&rarr;&emsp;$n=3$&emsp;&emsp;&emsp;\n",
    "Los filtros Bessel no tienen $\\epsilon$"
   ]
  },
  {
   "cell_type": "markdown",
   "id": "899b2fce",
   "metadata": {},
   "source": [
    "$$cotgh(s)=\\frac{1}{s}+\\frac{1}{\\frac{3}{s}+\\frac{1}{\\frac{5}{s}}}=\\frac{15}{s^3+6s^2+15s+15}=T(s)$$"
   ]
  },
  {
   "cell_type": "code",
   "execution_count": 1,
   "id": "62847d97",
   "metadata": {},
   "outputs": [
    {
     "name": "stdout",
     "output_type": "stream",
     "text": [
      "[[  0.           0.         -16.20389387   0.           1.\n",
      "    2.32218535]\n",
      " [  0.           0.          -0.06171356   1.           3.67781465\n",
      "    6.45943269]]\n"
     ]
    }
   ],
   "source": [
    "import numpy as np\n",
    "import scipy.signal as sig\n",
    "from splane import tf2sos_analog\n",
    "\n",
    "num = np.array([1])\n",
    "den = np.array([1, 6, 15, 15])\n",
    "\n",
    "mi_sos = sig.TransferFunction(num,den)        \n",
    "\n",
    "TF = tf2sos_analog(num, den)\n",
    "\n",
    "print (TF)"
   ]
  },
  {
   "cell_type": "markdown",
   "id": "5005384c",
   "metadata": {},
   "source": [
    "$$T(s)=\\frac{2.322}{s+2.322}\\cdot\\frac{6.46}{s^2+3.678s+6.46}\\;\\;\\;\\;\\;\\;\\;\\;\\;\\;\\;\\;\\;\n",
    "p_1=-2.322+j0\\;\\;\\;\\;\\;\\;\\;\\;p_{2,3}=-1.8389\\pm j1.7544\\;\\;\\;\\;\\;\\;\\;\\;\\;\\;\\;\\;\\;\n",
    "3\\;ceros\\;en\\;\\infty$$"
   ]
  },
  {
   "cell_type": "markdown",
   "id": "d3df562e",
   "metadata": {},
   "source": [
    "$$\\omega_o=2.542\\;\\;\\;\\;\\;\\;\\;\\;\\;\\;\\;\\;Q=0.691$$"
   ]
  },
  {
   "cell_type": "markdown",
   "id": "6c0130b0",
   "metadata": {},
   "source": [
    "Para la síntesis del circuito externo, se toma como $\\Omega_Z=50k\\Omega$, ya que todos los resistores internos del UAF42 son de ese valor. $\\Omega_\\omega=12.5k\\frac{rad}{s}$"
   ]
  },
  {
   "cell_type": "markdown",
   "id": "61e5a1ef",
   "metadata": {},
   "source": [
    "Utilizando las fórmulas propuestas por la hoja de datos, con el siguiente esquemático, se procede a calcular los valores de los componentes."
   ]
  },
  {
   "cell_type": "markdown",
   "id": "36e87620",
   "metadata": {},
   "source": [
    "<img src=\"./circ.png\">"
   ]
  },
  {
   "cell_type": "markdown",
   "id": "2015d060",
   "metadata": {},
   "source": [
    "$$\\omega_n^2=\\frac{R_2}{R_1R_{F1}R_{F2}C_1C_2}\\;\\;\\;\\;\\;\\;\\;\\;\\;\\;\\;\n",
    "Q=\\frac{1+\\frac{R_4(R_G+R_Q)}{R_GR_Q}}{1+\\frac{R_2}{R_1}}\\cdot(\\frac{R_2R_{F1}C_1}{R_1R_{F2}C_2})^{1/2}\n",
    "\\;\\;\\;\\;\\;\\;\\;\\;\\;\\;\\; A_{LP}=\\frac{1+\\frac{R_1}{R_2}}{R_G(\\frac{1}{R_G}+\\frac{1}{R_Q}+\\frac{1}{R_4})}$$"
   ]
  },
  {
   "cell_type": "markdown",
   "id": "8cd1d269",
   "metadata": {},
   "source": [
    "$$R_1=R_2=R_4=50k\\Omega\\;\\rightarrow\\;R_{1N}=R_{2N}=R_{4N}=1\\;\\;\\;\\;\\;\\;\\;\\;\\;\\;C_1=C_2=1nF$$"
   ]
  },
  {
   "cell_type": "markdown",
   "id": "67e95fac",
   "metadata": {},
   "source": [
    "$$\\omega_n^2=\\frac{1}{R_{F1}R_{F2}\\cdot10^{-18}}\\;\\;\\;\\;\\;\\;\\;\\;\\;\\;\\;\n",
    "Q=\\frac{1+\\frac{50k(R_G+R_Q)}{R_GR_Q}}{2}\\cdot(\\frac{R_{F1}}{R_{F2}})^{1/2}\n",
    "\\;\\;\\;\\;\\;\\;\\;\\;\\;\\;\\; A_{LP}=\\frac{2}{R_G(\\frac{1}{R_G}+\\frac{1}{R_Q}+\\frac{1}{50k})}$$"
   ]
  },
  {
   "cell_type": "markdown",
   "id": "a55903e9",
   "metadata": {},
   "source": [
    "Al tener $3$ ecuaciones con $4$ incógnitas ($R_{F1},R_{F2},R_G,R_Q$) y para simplificar los cálculos elijo $R_Q=50k\\Omega$ y las ecuaciones quedarían de la siguiente manera."
   ]
  },
  {
   "cell_type": "markdown",
   "id": "13792185",
   "metadata": {},
   "source": [
    "$$\\omega_n^2=\\frac{1}{R_{F1}R_{F2}\\cdot10^{-18}}\\;\\;\\;\\;\\;\\;\\;\\;\\;\\;\\;\n",
    "Q=\\frac{1+\\frac{(50k+R_G)}{R_G}}{2}\\cdot(\\frac{R_{F1}}{R_{F2}})^{1/2}\n",
    "\\;\\;\\;\\;\\;\\;\\;\\;\\;\\;\\; A_{LP}=\\frac{2}{(1+2\\cdot\\frac{R_G}{50k})}$$"
   ]
  },
  {
   "cell_type": "markdown",
   "id": "fc25cb4f",
   "metadata": {},
   "source": [
    "Quiero que mi ganancia sea $A_{LP}=1$, la $\\omega$ obtenida era $\\omega_o=12.5k\\frac{rad}{s}$&emsp;&rarr;&emsp;$\\omega=2.542\\cdot12.5k=31.775k$ y el $Q$ obtenido era de $0.691$"
   ]
  },
  {
   "cell_type": "markdown",
   "id": "0dc3599a",
   "metadata": {},
   "source": [
    "$$R_G=25k\\Omega\\;\\rightarrow\\;Q=2\\cdot(\\frac{R_{F1}}{R_{F2}})^{1/2}\\;\\rightarrow\\;\\frac{R_{F1}}{R_{F2}}=\\frac{Q^2}{4}=0.1194\n",
    "\\;\\rightarrow\\;R_{F1}=0.1194\\cdot R_{F2}$$"
   ]
  },
  {
   "cell_type": "markdown",
   "id": "5e012b1a",
   "metadata": {},
   "source": [
    "$$R_{F2}^2=\\frac{1}{0.1194\\cdot(31.775k)^2\\cdot 10^{-18}}\\;\\rightarrow\\;R_{F2}=91.078k\\Omega\\;\\rightarrow\\;R_{F1}=10.8747k\\Omega$$"
   ]
  },
  {
   "cell_type": "markdown",
   "id": "d36d0785",
   "metadata": {},
   "source": [
    "### Simulaciones"
   ]
  },
  {
   "cell_type": "code",
   "execution_count": 3,
   "id": "9dad0b94",
   "metadata": {
    "scrolled": true
   },
   "outputs": [
    {
     "data": {
      "image/png": "[encoded data removed]",
      "text/plain": [
       "<Figure size 432x288 with 2 Axes>"
      ]
     },
     "metadata": {
      "needs_background": "light"
     },
     "output_type": "display_data"
    },
    {
     "data": {
      "image/png": "[encoded data removed]",
      "text/plain": [
       "<Figure size 432x288 with 1 Axes>"
      ]
     },
     "metadata": {
      "needs_background": "light"
     },
     "output_type": "display_data"
    },
    {
     "data": {
      "image/png": "[encoded data removed]",
      "text/plain": [
       "<Figure size 432x288 with 1 Axes>"
      ]
     },
     "metadata": {
      "needs_background": "light"
     },
     "output_type": "display_data"
    }
   ],
   "source": [
    "import matplotlib.pyplot as plt\n",
    "import numpy as np\n",
    "import scipy.signal as sig\n",
    "from splane import analyze_sys\n",
    "\n",
    "num = np.array([15]) \n",
    "den = np.array([1, 6, 15, 15])\n",
    "\n",
    "BesselN = sig.TransferFunction(num,den)    \n",
    "\n",
    "analyze_sys(BesselN, 'Bessel Norm')   "
   ]
  },
  {
   "cell_type": "markdown",
   "id": "5338107d",
   "metadata": {},
   "source": [
    "En Matlab calculo la matriz desnormalizada y obtengo\n",
    "\n",
    "Tbp =\n",
    " \n",
    "                 2.93 e13\n",
    " ----------------------------------------\n",
    "  s^3 + 75000 s^2 + 2.344e09 s + 2.93e13\n",
    " \n",
    "Continuous-time transfer function."
   ]
  },
  {
   "cell_type": "markdown",
   "id": "76a11c93",
   "metadata": {},
   "source": [
    "<img src=\"./sim.png\">"
   ]
  },
  {
   "cell_type": "markdown",
   "id": "3ae36331",
   "metadata": {},
   "source": [
    "<img src=\"./spice.png\">"
   ]
  },
  {
   "cell_type": "markdown",
   "id": "1bbcf63c",
   "metadata": {},
   "source": [
    "<img src=\"./sim-spice.png\">"
   ]
  },
  {
   "cell_type": "markdown",
   "id": "4ffbfd97",
   "metadata": {},
   "source": [
    "Además, se realiza un análisis de Montecarlo del circuito obtenido"
   ]
  },
  {
   "cell_type": "markdown",
   "id": "82413f3f",
   "metadata": {},
   "source": [
    "<img src=\"./circ-mc.png\">"
   ]
  },
  {
   "cell_type": "markdown",
   "id": "17c6bc2a",
   "metadata": {},
   "source": [
    "<img src=\"./sim-mc.png\">"
   ]
  }
 ],
 "metadata": {
  "kernelspec": {
   "display_name": "Python 3 (ipykernel)",
   "language": "python",
   "name": "python3"
  },
  "language_info": {
   "codemirror_mode": {
    "name": "ipython",
    "version": 3
   },
   "file_extension": ".py",
   "mimetype": "text/x-python",
   "name": "python",
   "nbconvert_exporter": "python",
   "pygments_lexer": "ipython3",
   "version": "3.9.7"
  }
 },
 "nbformat": 4,
 "nbformat_minor": 5
}
