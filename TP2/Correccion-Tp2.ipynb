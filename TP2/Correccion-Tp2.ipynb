{
 "cells": [
  {
   "cell_type": "markdown",
   "id": "cfcc5efd",
   "metadata": {},
   "source": [
    "&emsp;2.&emsp;c) Ganancia de $20dB$ en la banda de paso utilizando 2 estructuras Sallen-Key y un pasabajos $RC$ (orden 1). La transferencia es"
   ]
  },
  {
   "cell_type": "markdown",
   "id": "875fdd57",
   "metadata": {},
   "source": [
    "$$T_{SK}(s)=\\frac{\\frac{K}{R_1R_2C_1C_2}}{s^2+[\\frac{1}{R_2C_2}+\\frac{1}{R_1C_2}+\\frac{1}{R_2C_1}\\cdot(1-K)]\\cdot s+\\frac{1}{R_1R_2C_1C_2}}\\;\\;\\;\\;\\;\\;\\;\\;\\; K=1+\\frac{R_4}{R_3}$$"
   ]
  },
  {
   "cell_type": "markdown",
   "id": "117e6db1",
   "metadata": {},
   "source": [
    "Elijo dividir las ganancias en ambas etapas para que ganen mitad cada una. Siguiendo recomendaciones del fabricante, para el diseño se siguen los siguientes pasos."
   ]
  },
  {
   "cell_type": "markdown",
   "id": "ff2f039c",
   "metadata": {},
   "source": [
    "<centre><img src=\"./correccion.png\"></centre>"
   ]
  },
  {
   "cell_type": "markdown",
   "id": "0021877c",
   "metadata": {},
   "source": [
    "Para la primera etapa y eligiendo $C=50nF$ se calcula"
   ]
  },
  {
   "cell_type": "markdown",
   "id": "842d8de4",
   "metadata": {},
   "source": [
    "$$f_o=f_p\\cdot \\epsilon^{-\\frac{1}{n}}=1523.1 Hz\\;\\;\\;\\;\\;\\;\\;\\;Q=0.62\\;\\;\\;\\;\\;\\;\\;\\;K=3\\;\\;\\;\\;\\;\\;\n",
    "R_1=mR\\;\\;\\;\\;R_2=R\\;\\;\\;\\;C_1=C_2=C$$"
   ]
  },
  {
   "cell_type": "markdown",
   "id": "885e0bcf",
   "metadata": {},
   "source": [
    "$$K=1+\\frac{R_4}{R_3}\\;\\rightarrow\\;R_4=2\\cdot R_3\\;\\rightarrow\\;R_3=1k\\Omega\\;\\;\\;\\;R_4=2k\\Omega\n",
    "\\;\\;\\;\\;\\;\\;Q=\\frac{\\sqrt{m}}{1+2m-mK}\\;\\rightarrow\\; 0.62=\\frac{\\sqrt{m}}{1-m}\\;\\rightarrow\\; m=0.23$$"
   ]
  },
  {
   "cell_type": "markdown",
   "id": "f97c20f0",
   "metadata": {},
   "source": [
    "$$f_o=\\frac{1}{2\\pi\\cdot RC\\cdot\\sqrt{m}}\\;\\rightarrow\\;1523.1=\\frac{1}{2\\pi\\cdot R\\cdot 50\\cdot10^{-9}\\cdot\\sqrt{0.151}}\n",
    "\\;\\rightarrow\\;R=4357.7\\Omega\\;\\rightarrow\\;mR=1002.3\\Omega$$"
   ]
  },
  {
   "cell_type": "markdown",
   "id": "e61ed188",
   "metadata": {},
   "source": [
    "Para la segunda etapa y manteniendo $C=50nF$ se calcula"
   ]
  },
  {
   "cell_type": "markdown",
   "id": "43e229c9",
   "metadata": {},
   "source": [
    "$$f_o=f_p\\cdot \\epsilon^{-\\frac{1}{n}}=1523.1 Hz\\;\\;\\;\\;\\;\\;\\;\\;Q=1.62\\;\\;\\;\\;\\;\\;\\;\\;K=3\\;\\;\\;\\;\\;\\;\n",
    "R_1=mR\\;\\;\\;\\;R_2=R\\;\\;\\;\\;C_1=C_2=C$$"
   ]
  },
  {
   "cell_type": "markdown",
   "id": "c98e5962",
   "metadata": {},
   "source": [
    "$$K=1+\\frac{R_4}{R_3}\\;\\rightarrow\\;R_4=2R_3\\;\\rightarrow\\;R_3=1k\\Omega\\;\\;\\;\\;R_4=2k\\Omega\\;\\;\\;\\;\\;\\;Q=\\frac{\\sqrt{m}}{1+2m-mK}\\;\\rightarrow\\; 1.62=\\frac{\\sqrt{m}}{1-m}\\;\\rightarrow\\; m=0.54$$"
   ]
  },
  {
   "cell_type": "markdown",
   "id": "0d5ada8e",
   "metadata": {},
   "source": [
    "$$f_o=\\frac{1}{2\\pi\\cdot RC\\cdot\\sqrt{m}}\\;\\rightarrow\\;1523.1=\\frac{1}{2\\pi\\cdot R\\cdot 50\\cdot10^{-9}\\cdot\\sqrt{0.274}}\n",
    "\\;\\rightarrow\\;R=2844\\Omega\\;\\rightarrow\\;mR=1535.7\\Omega$$"
   ]
  },
  {
   "cell_type": "markdown",
   "id": "0a7c99e2",
   "metadata": {},
   "source": [
    "Para la etapa de orden 1"
   ]
  },
  {
   "cell_type": "markdown",
   "id": "b1a5c56b",
   "metadata": {},
   "source": [
    "$$T(s)=\\frac{\\frac{1}{RC}}{s+\\frac{1}{RC}}\\;\\;\\;\\;\\;\\;\n",
    "R=1k\\Omega\\;\\;\\;\\;\\;\\;C=129 nF$$"
   ]
  },
  {
   "cell_type": "markdown",
   "id": "878d02a7",
   "metadata": {},
   "source": [
    "<centre><img src=\"./correccion-sim.png\"></centre>"
   ]
  },
  {
   "cell_type": "markdown",
   "id": "e9637d4c",
   "metadata": {},
   "source": [
    "$$3.\\;d)\\;\\;\\;\\;\\;\\;\\;\\;\\;\\;T(s)=\\frac{0.387}{s+0.387}\\cdot\\frac{0.463}{s^2+0.625\\cdot s+0.463}\\cdot\\frac{0.969}{s^2+0.24\\cdot s+0.969}$$"
   ]
  },
  {
   "cell_type": "markdown",
   "id": "9d609ff8",
   "metadata": {},
   "source": [
    "$$\\omega_{o1}=0.68\\;\\;\\;\\;\\;Q_1=1.088\\;\\;\\;\\;\\;\\;\\;\\;\\;\\;\\omega_{o2}=0.984\\;\\;\\;\\;\\;Q_2=4.103$$"
   ]
  },
  {
   "cell_type": "markdown",
   "id": "7117a1dd",
   "metadata": {},
   "source": [
    "Todas las ganancias del circuito serán de $0dB$. Del fabricante del $UAF42$ obtengo las fórmulas para deducir lo siguiente."
   ]
  },
  {
   "cell_type": "markdown",
   "id": "ceec10a0",
   "metadata": {},
   "source": [
    "$$\\omega_o^2=\\frac{1}{R_4R_5\\cdot(1000pF)^2}\\;\\;\\;\\;\\;\\;\\;Q=(1+\\frac{50k}{R_7})\\cdot\n",
    "\\frac{1}{(\\frac{2}{50k\\Omega}+\\frac{1}{R_1})}\\cdot(\\frac{R_4}{(50k\\Omega)^2\\cdot R_5})^{\\frac{1}{2}}\n",
    "\\;\\;\\;\\;\\;\\;\\;\\;\\;\\; A_{LP}=\\frac{50k\\Omega}{R_1}$$"
   ]
  },
  {
   "cell_type": "markdown",
   "id": "21eab6d8",
   "metadata": {},
   "source": [
    "Para mantener la ganancia en $1$ y además eligiendo también el valor de $R_7$ decido que $R_1=R_7=50k\\Omega$"
   ]
  },
  {
   "cell_type": "markdown",
   "id": "c407bb20",
   "metadata": {},
   "source": [
    "$$\\omega_o^2=\\frac{1}{R_4R_5\\cdot(1000pF)^2}\\;\\;\\;\\;\\;\\;\\;Q=\\frac{2}{3}\\cdot\\sqrt{\\frac{R_4}{R_5}}$$"
   ]
  },
  {
   "cell_type": "markdown",
   "id": "941f45fb",
   "metadata": {},
   "source": [
    "Para la primera sección de orden 2"
   ]
  },
  {
   "cell_type": "markdown",
   "id": "6959dd04",
   "metadata": {},
   "source": [
    "$$\\omega_o=\\omega_{oN}\\cdot 2\\pi\\cdot f_p=4.352k\\pi\\;\\;\\;\\;\\;\\;\\;\\;Q=1.088$$"
   ]
  },
  {
   "cell_type": "markdown",
   "id": "322f34e6",
   "metadata": {},
   "source": [
    "$$R_4=(1.088\\cdot\\frac{3}{2})^2\\cdot R_5=2.66R_5\\;\\;\\;\\;\\;\\;\\;\\;\\omega_o^2=\\frac{1}{2.66\\cdot R_5^2\\cdot(1000pF)^2}\n",
    "\\;\\rightarrow\\;R_5=\\frac{1}{\\sqrt{2.66}\\cdot4.352\\cdot10^3\\cdot\\pi\\cdot10^{-9}}=44.85k\\Omega\n",
    "\\;\\rightarrow\\;R_4=119.3k\\Omega$$"
   ]
  },
  {
   "cell_type": "markdown",
   "id": "98c30679",
   "metadata": {},
   "source": [
    "Para la segunda sección de orden 2"
   ]
  },
  {
   "cell_type": "markdown",
   "id": "0d3f4380",
   "metadata": {},
   "source": [
    "$$\\omega_o=\\omega_{oN}\\cdot 2\\pi\\cdot f_p=6.3k\\pi\\;\\;\\;\\;\\;\\;\\;\\;Q=4.103$$"
   ]
  },
  {
   "cell_type": "markdown",
   "id": "bb8181e4",
   "metadata": {},
   "source": [
    "$$R_4=(4.103\\cdot\\frac{3}{2})^2\\cdot R_5=37.9R_5\\;\\;\\;\\;\\;\\;\\;\\;\\omega_o^2=\\frac{1}{37.9\\cdot R_5^2\\cdot(1000pF)^2}\n",
    "\\;\\rightarrow\\;R_5=\\frac{1}{\\sqrt{37.9}\\cdot6.3\\cdot10^3\\cdot\\pi\\cdot10^{-9}}=8.2k\\Omega\n",
    "\\;\\rightarrow\\;R_4=310.8k\\Omega$$"
   ]
  },
  {
   "cell_type": "markdown",
   "id": "7b0e878a",
   "metadata": {},
   "source": [
    "Para la etapa de orden 1"
   ]
  },
  {
   "cell_type": "markdown",
   "id": "0e60f60f",
   "metadata": {},
   "source": [
    "$$R=50k\\Omega\\;\\;\\;\\;\\;\\;\\;\\;\\;\\omega_o=0.387 \\cdot 2\\pi\\cdot3.2k=7781.1\\;\\;\\;\\;\\;\\;\\;\\;\\;C=\\frac{1}{1k\\Omega\\cdot7781.1}=2.57nF$$"
   ]
  },
  {
   "cell_type": "markdown",
   "id": "95197e94",
   "metadata": {},
   "source": [
    "<centre><img src=\"./correccion-sim2.png\"></centre>"
   ]
  }
 ],
 "metadata": {
  "kernelspec": {
   "display_name": "Python 3 (ipykernel)",
   "language": "python",
   "name": "python3"
  },
  "language_info": {
   "codemirror_mode": {
    "name": "ipython",
    "version": 3
   },
   "file_extension": ".py",
   "mimetype": "text/x-python",
   "name": "python",
   "nbconvert_exporter": "python",
   "pygments_lexer": "ipython3",
   "version": "3.9.7"
  }
 },
 "nbformat": 4,
 "nbformat_minor": 5
}
