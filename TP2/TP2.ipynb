{
 "cells": [
  {
   "cell_type": "markdown",
   "id": "d1919ddd",
   "metadata": {},
   "source": [
    "# Trabajo práctico N°2\n",
    "#### Matías Blas Tassone "
   ]
  },
  {
   "cell_type": "markdown",
   "id": "6d85bc5c",
   "metadata": {},
   "source": [
    "&emsp;1.&emsp; Pasa bajos butterworth RLC de orden 2 con $f_c=1kHz$ &emsp;&rarr;&emsp;$\\epsilon=1$&emsp;$\\omega_o=2\\pi\\cdot f_c$&emsp; polos en $\\pm 45°$ respecto de eje $-\\sigma$"
   ]
  },
  {
   "cell_type": "markdown",
   "id": "1c1a9e7c",
   "metadata": {},
   "source": [
    "$$T(s)=\\frac{\\frac{1}{LC}}{s^2+\\frac{1}{RC} \\cdot s +\\frac{1}{LC}}\\;\\;\\;\\;\\;\\;\\;\\;\\;\\;\\;\\;T_N(s)=\\frac{1}{s^2+\\sqrt{2}\\cdot s +1}$$"
   ]
  },
  {
   "cell_type": "markdown",
   "id": "91ebb42d",
   "metadata": {},
   "source": [
    " $$R_N=1\\;\\;\\;\\;\\;\\;\\;\\;\\;\\;C_{N} = \\frac{\\sqrt{2}}{2}\\;\\;\\;\\;\\;\\;\\;\\;\\;\\;L_{N} = \\sqrt{2}$$"
   ]
  },
  {
   "cell_type": "markdown",
   "id": "f42a223e",
   "metadata": {},
   "source": [
    "$$\\Omega_Z=1k\\Omega\\;\\;\\;\\;\\;\\;\\;\\;\\;\\;\\Omega_\\omega=2000\\pi\\;\\;\\;\\;\\;\\;\\;\\;\\;\\;C = \\frac{C_{N}}{\\Omega_Z \\cdot \\Omega_\\omega} =  112.5nF \\;\\;\\;\\;\\;\\;\\;\\;\\;\\;\n",
    "L = \\frac{\\Omega_Z}{\\Omega_\\omega}  \\cdot L_{N} =  225.08mH$$"
   ]
  },
  {
   "cell_type": "markdown",
   "id": "419be6f2",
   "metadata": {},
   "source": [
    "<centre><img src=\"./ej1.png\"></centre>"
   ]
  },
  {
   "cell_type": "markdown",
   "id": "4c83da93",
   "metadata": {},
   "source": [
    "&emsp;2.&emsp; $\\alpha_{max}=0.5 dB$&emsp;$\\alpha_{min}=20 dB$&emsp; $f_p=1 kHz$&emsp; $f_c=2kHz$"
   ]
  },
  {
   "cell_type": "markdown",
   "id": "17ed63d6",
   "metadata": {},
   "source": [
    "$$a) \\;\\;\\;\\;\\;\\;\\;\\;\\;\\;\\;\\;\\;\\;\\;\\epsilon^2=10^{0.1\\cdot\\alpha_{max}}-1=0.122\\;\\;\\;\\;\\;\\;\\;\\;\\;\\\n",
    "alpha_{min}=10\\cdot log(1+\\epsilon^2 \\cdot \\omega_{SN}^{2\\cdot n})\\;\\;\\;\\;\\; n=5$$"
   ]
  },
  {
   "cell_type": "markdown",
   "id": "4278f22e",
   "metadata": {},
   "source": [
    "b)&emsp;$\\omega_{b}=2\\pi \\cdot f_p\\cdot\\epsilon^{-\\frac{1}{n}}=2468.3\\pi$&emsp;$\\omega_{bN}=1.234$\n",
    "&emsp;&rarr;&emsp; 5 polos en circunferencia de radio 1, uno ubicado sobre el eje $-\\sigma$ separados por ángulos de $\\frac{\\pi}{5}$"
   ]
  },
  {
   "cell_type": "markdown",
   "id": "3e3814bb",
   "metadata": {},
   "source": [
    "$$Q_1=0.5\\;\\;\\;\\;\\;\\;\\;Q_{2,3}=\\frac{1}{2\\cdot cos(36°)}=0.62\\;\\;\\;\\;\\;\\;\\;Q_{4,5}=\\frac{1}{2\\cdot cos(72°)}=1.62$$"
   ]
  },
  {
   "cell_type": "markdown",
   "id": "1641f714",
   "metadata": {},
   "source": [
    "c) Ganancia de $20dB$ en la banda de paso utilizando 2 estructuras Sallen-Key y un pasabajos $RC$ (orden 1). La transferencia es"
   ]
  },
  {
   "cell_type": "markdown",
   "id": "674a5ff7",
   "metadata": {},
   "source": [
    "$$T_{SK}(s)=\\frac{\\frac{K}{R_1R_2C_1C_2}}{s^2+[\\frac{1}{R_2C_2}+\\frac{1}{R_1C_2}+\\frac{1}{R_2C_1}\\cdot(1-K)]\\cdot s+\\frac{1}{R_1R_2C_1C_2}}\\;\\;\\;\\;\\;\\;\\;\\;\\; K=1+\\frac{R_4}{R_3}$$"
   ]
  },
  {
   "cell_type": "markdown",
   "id": "a25fb2ce",
   "metadata": {},
   "source": [
    "Elijo dividir las ganancias en ambas etapas para que ganen $10dB$ cada una &emsp;&rarr;&emsp;$\\frac{R_4}{R_3}=3.16$. Antes de comenzar elijo $\\Omega_Z=1k\\Omega$ y la ya definida $\\Omega_\\omega=2468.3\\pi$"
   ]
  },
  {
   "cell_type": "markdown",
   "id": "1b1d9771",
   "metadata": {},
   "source": [
    "$$Etapa\\;1\\;de\\;Q =0.62\\;\\;\\;\\;\\;\\;\\;\\;\\;\\omega_{oN}=1=\\frac{1}{C_{1N}C_{2N}}\\;\\;\\;\\;\\;\\;\\;\\;\\;Q=\\frac{1}{[\\frac{2}{C_{2N}}+\\frac{1}{C_{1N}}\\cdot(1-K)]}$$"
   ]
  },
  {
   "cell_type": "markdown",
   "id": "056d4c22",
   "metadata": {},
   "source": [
    "$$C_{1N}=\\frac{1}{C_{2N}}\\;\\;\\;\\;\\;\\;\\;\\;\\;0.62 = \\frac{C_{2N}C_{1N}}{2\\cdot C_{1N}+C_{2N}\\cdot (-2.16)}=\\frac{1}{2\\cdot C_{1N}-2.16\\cdot C_{2N}}$$"
   ]
  },
  {
   "cell_type": "markdown",
   "id": "91e7307c",
   "metadata": {},
   "source": [
    "$$1.24\\cdot C_{1N}-1.34\\cdot C_{2N}=1=1.24\\cdot C_{1N} - \\frac{1.34}{C_{1N}}$$"
   ]
  },
  {
   "cell_type": "markdown",
   "id": "44177ce0",
   "metadata": {},
   "source": [
    "$$1.24\\cdot C_{1N}^2 - C_{1N}-1.34=0\\;\\;\\;\\;\\;\\;\\;\\;\\;\\;\\;C_{1N}=1.52\\;\\;\\;\\;\\;\\;\\;\\;C_{2N}=0.66$$"
   ]
  },
  {
   "cell_type": "markdown",
   "id": "0e45b0ba",
   "metadata": {},
   "source": [
    "$$C_1 = \\frac{C_{1N}}{\\Omega_Z \\cdot \\Omega_\\omega} = 196 nF\\;\\;\\;\\;\\;\\;\n",
    "C_2 = \\frac{C_{2N}}{\\Omega_Z \\cdot \\Omega_\\omega} = 85.113 nF\\;\\;\\;\\;\\;\\;\n",
    "R_1=R_2=R_3=1k\\Omega\\;\\;\\;\\;\\;\\;R_4=3.16k\\Omega$$"
   ]
  },
  {
   "cell_type": "markdown",
   "id": "83c80031",
   "metadata": {},
   "source": [
    "$$Etapa\\;2\\;de\\;Q =1.62\\;\\;\\;\\;\\;\\;\\;\\;\\;\\omega_{oN}=1=\\frac{1}{C_{1N}C_{2N}}\\;\\;\\;\\;\\;\\;\\;\\;\\;Q=\\frac{1}{[\\frac{2}{C_{2N}}+\\frac{1}{C_{1N}}\\cdot(1-K)]}$$"
   ]
  },
  {
   "cell_type": "markdown",
   "id": "3cc8be7b",
   "metadata": {},
   "source": [
    "$$C_{1N}=\\frac{1}{C_{2N}}\\;\\;\\;\\;\\;\\;\\;\\;\\;1.62 =\\frac{1}{2\\cdot C_{1N}-2.16\\cdot C_{2N}}$$"
   ]
  },
  {
   "cell_type": "markdown",
   "id": "fa667fb2",
   "metadata": {},
   "source": [
    "$$3.24\\cdot C_{1N}-3.5\\cdot C_{2N}=1=3.24\\cdot C_{1N} - \\frac{3.5}{C_{1N}}$$"
   ]
  },
  {
   "cell_type": "markdown",
   "id": "17c575ea",
   "metadata": {},
   "source": [
    "$$3.24\\cdot C_{1N}^2 - C_{1N}-3.5=0\\;\\;\\;\\;\\;\\;\\;\\;\\;\\;\\;C_{1N}=1.2\\;\\;\\;\\;\\;\\;\\;\\;C_{2N}=0.83$$"
   ]
  },
  {
   "cell_type": "markdown",
   "id": "986caf35",
   "metadata": {},
   "source": [
    "$$C_1 = \\frac{C_{1N}}{\\Omega_Z \\cdot \\Omega_\\omega} = 154.75 nF\\;\\;\\;\\;\\;\\;\n",
    "C_2 = \\frac{C_{2N}}{\\Omega_Z \\cdot \\Omega_\\omega} = 107 nF\\;\\;\\;\\;\\;\\;\n",
    "R_1=R_2=R_3=1k\\Omega\\;\\;\\;\\;\\;\\;R_4=3.16k\\Omega$$"
   ]
  },
  {
   "cell_type": "markdown",
   "id": "c43ee392",
   "metadata": {},
   "source": [
    "$$Etapa\\;de\\;orden\\;1\\;\\;\\;\\;\\;\\;T(s)=\\frac{\\frac{1}{RC}}{s+\\frac{1}{RC}}\\;\\;\\;\\;\\;\\;\n",
    "R=1k\\Omega\\;\\;\\;\\;\\;\\;C=129 nF$$"
   ]
  },
  {
   "cell_type": "markdown",
   "id": "f85f14d5",
   "metadata": {},
   "source": [
    "<centre><img src=\"./circ-ej2.png\"></centre>"
   ]
  },
  {
   "cell_type": "markdown",
   "id": "e694e7db",
   "metadata": {},
   "source": [
    "<centre><img src=\"./sim-ej2.png\"></centre>"
   ]
  },
  {
   "cell_type": "markdown",
   "id": "14671789",
   "metadata": {},
   "source": [
    "&emsp;3.&emsp; $\\alpha_{max}=0.4 dB$&emsp;$\\alpha_{min}=48 dB$&emsp; $f_p=3.2 kHz$&emsp; $f_c=9.6kHz$&emsp; $Chebyshev$\n",
    "&emsp;&rarr;&emsp;$\\Omega_\\omega=\\omega_p$&emsp;$\\omega_{SN}=3$"
   ]
  },
  {
   "cell_type": "markdown",
   "id": "f41e8c4b",
   "metadata": {},
   "source": [
    "$$a)\\;\\;\\;\\;\\;\\;\\;\\;\\;\\;\\epsilon^2 = 10^{0.1\\cdot 0.4dB}-1=0.0965\\;\\;\\;\\;\\;\n",
    "alpha_{min}=10\\cdot log(1+\\epsilon^2 \\cdot cosh^2(n\\cdot cosh^{-1}(\\omega_{SN}))\\;\\;\\;\\;\\; n=5$$"
   ]
  },
  {
   "cell_type": "markdown",
   "id": "6fb35b00",
   "metadata": {},
   "source": [
    "<centre><img src=\"./ej3-b.png\"></centre>"
   ]
  },
  {
   "cell_type": "markdown",
   "id": "2417b8b3",
   "metadata": {},
   "source": [
    "$$c)\\;\\;\\;\\;\\;\\;\\;\\;\\;\\;a=\\frac{1}{n}\\cdot senh^{-1}(\\frac{1}{\\epsilon}) = 0.378\\;\\;\\;\\;\\;\\;\\;\\;\\;\\;\n",
    "senh(a)=0.387\\;\\;\\;\\;\\;\\;\\;\\;\\;\\;cosh(a)=1.072$$"
   ]
  },
  {
   "cell_type": "markdown",
   "id": "7dec5a52",
   "metadata": {},
   "source": [
    "$$\\sigma_k=-senh(a)\\cdot sen(\\frac{2k-1}{2n}\\cdot \\pi)\\;\\;\\;\\;\\;\\;\\;\\;\\;\\;\\omega_k=cosh(a)\\cdot cos(\\frac{2k-1}{2n}\\cdot \\pi)\n",
    "\\;\\;\\;\\;\\;\\;\\;\\;\\;\\;k=1,\\;2,\\;...,\\;n.$$"
   ]
  },
  {
   "cell_type": "markdown",
   "id": "d9513440",
   "metadata": {},
   "source": [
    "$$p_1=-0.387+j0\\;\\;\\;\\;\\;\\;\\;\\;\\;\\;p_{2,3}=-0.313\\pm 0.604\\;\\;\\;\\;\\;\\;\\;\\;\\;\\;p_{4,5}=-0.12\\pm 0.977$$"
   ]
  },
  {
   "cell_type": "markdown",
   "id": "5c021cac",
   "metadata": {},
   "source": [
    "$$d)\\;\\;\\;\\;\\;\\;\\;\\;\\;\\;T(s)=\\frac{0.387}{s+0.387}\\cdot\\frac{0.463}{s^2+0.625\\cdot s+0.463}\\cdot\\frac{0.969}{s^2+0.24\\cdot s+0.969}$$"
   ]
  },
  {
   "cell_type": "markdown",
   "id": "8f48dbce",
   "metadata": {},
   "source": [
    "$$\\omega_{o1}=0.68\\;\\;\\;\\;\\;Q_1=1.088\\;\\;\\;\\;\\;\\;\\;\\;\\;\\;\\omega_{o2}=0.984\\;\\;\\;\\;\\;Q_2=4.103$$"
   ]
  },
  {
   "cell_type": "markdown",
   "id": "0369845c",
   "metadata": {},
   "source": [
    "Como norma de impedancia elijo $\\Omega_Z=1k\\Omega$ y todas las ganancias del circuito serán de $0dB$. También $R_4=R_5=R$ y $C_1=C_2=C$ por recomendación del fabricante. Del mismo obtengo las fórmulas para deducir lo siguiente."
   ]
  },
  {
   "cell_type": "markdown",
   "id": "09eb19b6",
   "metadata": {},
   "source": [
    "<centre><img src=\"./formulas-KHN.png\"></centre>"
   ]
  },
  {
   "cell_type": "markdown",
   "id": "15232fcb",
   "metadata": {},
   "source": [
    "$$R_1=R_2=R_3=1\\;\\;\\;\\;\\;\\;\\;\\;\\;\\;\\;\\;\\;\\;\\;\\omega_o=\\frac{1}{RC}\n",
    "\\;\\;\\;\\;\\;\\;\\;\\;\\;\\;\\;\\;\\;\\;\\;Q=\\frac{R_6}{R_7\\cdot\\sqrt{R_2R_3}\\cdot(R_1//R_2//R_3)}=\n",
    "\\frac{R_6}{R_7}\\cdot\\frac{1}{\\Omega_Z\\cdot\\frac{\\Omega_Z}{3}}=\\frac{3}{\\Omega_Z^2}\\cdot\\frac{R_6}{R_7}$$"
   ]
  },
  {
   "cell_type": "markdown",
   "id": "39cd07e3",
   "metadata": {},
   "source": [
    "Para la etapa N°1 de $\\omega_{o1}=0.68$ y $Q_1=1.088$ procedo con los cálculos de componentes. Tomando $R=R_7=\\Omega_Z$"
   ]
  },
  {
   "cell_type": "markdown",
   "id": "90647391",
   "metadata": {},
   "source": [
    "$$C=\\frac{1}{0.68}=1.4706\\;\\;\\;\\;\\;\\;\\;\\;\\;\\;\\;\\;\\;\\;\\;R_6=\\frac{Q\\cdot\\Omega_Z^2}{3}=362.6k$$"
   ]
  },
  {
   "cell_type": "markdown",
   "id": "34ff4d0a",
   "metadata": {},
   "source": [
    "$$C = \\frac{C_{N}}{\\Omega_Z \\cdot \\Omega_\\omega}= \\frac{1.4706}{1k\\cdot2\\pi\\cdot3.2k} = 73.14 nF\\;\\;\\;\\;\\;\\;\n",
    "R_1=R_2=R_3=R_4=R_5=R_7=1k\\Omega\\;\\;\\;\\;\\;\\;R_6=362.6M\\Omega$$"
   ]
  },
  {
   "cell_type": "markdown",
   "id": "fdbf21b1",
   "metadata": {},
   "source": [
    "Para la etapa N°2 de $\\omega_{o2}=0.984$ y $Q_2=4.103$ procedo con los cálculos de componentes. Tomando $R=R_7=\\Omega_Z$"
   ]
  },
  {
   "cell_type": "markdown",
   "id": "dfa24e46",
   "metadata": {},
   "source": [
    "$$C=\\frac{1}{0.984}=1.01626\\;\\;\\;\\;\\;\\;\\;\\;\\;\\;\\;\\;\\;\\;\\;R_6=\\frac{Q\\cdot\\Omega_Z^2}{3}=1367.7k$$"
   ]
  },
  {
   "cell_type": "markdown",
   "id": "5d6ea7f2",
   "metadata": {},
   "source": [
    "$$C = \\frac{C_{N}}{\\Omega_Z \\cdot \\Omega_\\omega}= \\frac{1.01626}{1k\\cdot2\\pi\\cdot3.2k} = 50.54 nF\\;\\;\\;\\;\\;\\;\n",
    "R_1=R_2=R_3=R_4=R_5=R_7=1k\\Omega\\;\\;\\;\\;\\;\\;R_6=1367.7M\\Omega$$"
   ]
  },
  {
   "cell_type": "markdown",
   "id": "2a3dbf03",
   "metadata": {},
   "source": [
    "Para la etapa de primer orden utilizo un circuito $RC$ simple."
   ]
  },
  {
   "cell_type": "markdown",
   "id": "fd1e75c6",
   "metadata": {},
   "source": [
    "$$R=1k\\Omega\\;\\;\\;\\;\\;\\;\\;\\;\\;\\omega_o=0.387 \\cdot 2\\pi\\cdot3.2k=7781.1\\;\\;\\;\\;\\;\\;\\;\\;\\;C=\\frac{1}{1k\\Omega\\cdot7781.1}=128.52nF$$"
   ]
  },
  {
   "cell_type": "markdown",
   "id": "e3abc63c",
   "metadata": {},
   "source": [
    "<centre><img src=\"./circ-ej3.png\"></centre>"
   ]
  },
  {
   "cell_type": "markdown",
   "id": "d0af5ab3",
   "metadata": {},
   "source": [
    "<centre><img src=\"./sim-ej3.png\"></centre>"
   ]
  },
  {
   "cell_type": "markdown",
   "id": "2c5de3c5",
   "metadata": {},
   "source": [
    "A pesar de que con los valores calculados se cumple con los valores de $\\omega_o$ y de $Q$ para cada sección utilizando las fórmulas del fabricante, la simulación no muestra lo esperado."
   ]
  },
  {
   "cell_type": "markdown",
   "id": "2e5bad9d",
   "metadata": {},
   "source": [
    "&emsp;4.&emsp; Resuelto en la TS3, se encuentra en https://github.com/mtassone1/TC2_2022/blob/main/TS3/TS3.ipynb"
   ]
  },
  {
   "cell_type": "markdown",
   "id": "5353c0bf",
   "metadata": {},
   "source": [
    "&emsp;5.&emsp; $\\alpha_{max}=0.4 dB$&emsp;$\\alpha_{min}=48 dB$&emsp; $f_s=3.2 kHz$&emsp; $f_p=9.6kHz$&emsp; $Chebyshev$\n",
    "&emsp;&rarr;&emsp;$\\Omega_\\omega=\\omega_p$&emsp;$\\omega_{SN}=\\frac{1}{3}$&emsp;&rarr;&emsp;$\\Omega_{SN}=3$"
   ]
  },
  {
   "cell_type": "markdown",
   "id": "99dcec18",
   "metadata": {},
   "source": [
    "$$a)\\;\\;\\;\\;\\;\\;\\;\\;\\;\\;\\epsilon^2 = 10^{0.1\\cdot 0.4dB}-1=0.0965\\;\\;\\;\\;\\;\n",
    "alpha_{min}=10\\cdot log(1+\\epsilon^2 \\cdot cosh^2(n\\cdot cosh^{-1}(\\Omega_{SN}))\\;\\;\\;\\;\\; n=5$$"
   ]
  },
  {
   "cell_type": "markdown",
   "id": "b7ae6a43",
   "metadata": {},
   "source": [
    "&emsp;$b)$&emsp;Son los mismos polos que en el ejercicio 3. Por lo tanto la transferencia pasa bajos normalizada será la misma. En este caso, los polos en vez de encontrarse sobre una circunferencia, se encuentran sobre una elipse y más cerca del eje $j\\omega$, por eso los valores de Q más elevados."
   ]
  },
  {
   "cell_type": "markdown",
   "id": "cbcb5df7",
   "metadata": {},
   "source": [
    "$$p_1=-0.387+j0\\;\\;\\;\\;\\;\\;\\;\\;\\;\\;p_{2,3}=-0.313\\pm 0.604\\;\\;\\;\\;\\;\\;\\;\\;\\;\\;p_{4,5}=-0.12\\pm 0.977$$"
   ]
  },
  {
   "cell_type": "markdown",
   "id": "86f6d728",
   "metadata": {},
   "source": [
    "$$c)\\;\\;\\;\\;\\;\\;\\;\\;\\;\\;T(s)_{LP}=\\frac{0.387}{s+0.387}\\cdot\\frac{0.463}{s^2+0.625\\cdot s+0.463}\\cdot\\frac{0.969}{s^2+0.24\\cdot s+0.969}$$"
   ]
  },
  {
   "cell_type": "markdown",
   "id": "720fcdfc",
   "metadata": {},
   "source": [
    "$$\\omega_{o1}=0.68\\;\\;\\;\\;\\;Q_1=1.088\\;\\;\\;\\;\\;\\;\\;\\;\\;\\;\\omega_{o2}=0.984\\;\\;\\;\\;\\;Q_2=4.103$$"
   ]
  },
  {
   "cell_type": "markdown",
   "id": "ba9c2d47",
   "metadata": {},
   "source": [
    "$$T(s)_{HP}=\\frac{0.387}{\\frac{1}{s}+0.387}\\cdot\\frac{0.463}{(\\frac{1}{s})^2+0.625\\cdot \\frac{1}{s}+0.463}\\cdot\\frac{0.969}{(\\frac{1}{s})^2+0.24\\cdot \\frac{1}{s}+0.969}$$"
   ]
  },
  {
   "cell_type": "markdown",
   "id": "03761ed5",
   "metadata": {},
   "source": [
    "$$T(s)_{HP}=\\frac{s\\cdot 0.387}{1+s\\cdot 0.387}\\cdot\n",
    "\\frac{0.463\\cdot s^2}{1+0.625\\cdot s+0.463\\cdot s^2}\\cdot\n",
    "\\frac{0.969\\cdot s^2}{1+0.24\\cdot s+0.969\\cdot s^2}$$"
   ]
  },
  {
   "cell_type": "markdown",
   "id": "71d3e992",
   "metadata": {},
   "source": [
    "$$T(s)_{HP}=\\frac{s}{s+2.584}\\cdot\n",
    "\\frac{s^2}{2.16+1.35\\cdot s+s^2}\\cdot\n",
    "\\frac{s^2}{1.032+0.2477\\cdot s+s^2}$$"
   ]
  },
  {
   "cell_type": "markdown",
   "id": "c34d3c23",
   "metadata": {},
   "source": [
    "$$T(s)_{HP}=\\frac{s}{s+2.584}\\cdot\n",
    "\\frac{s^2}{s^2+1.35\\cdot s+2.16}\\cdot\n",
    "\\frac{s^2}{s^2+0.2477\\cdot s+1.032}$$"
   ]
  },
  {
   "cell_type": "markdown",
   "id": "bb66273c",
   "metadata": {},
   "source": [
    "$$\\omega_{o1}=1.4697\\;\\;\\;\\;\\;Q_1=1.088\\;\\;\\;\\;\\;\\;\\;\\;\\;\\;\\omega_{o2}=1.01587\\;\\;\\;\\;\\;Q_2=4.103$$"
   ]
  },
  {
   "cell_type": "markdown",
   "id": "072a7f83",
   "metadata": {},
   "source": [
    "Para la implementación normalizada $R=1$ y $L=\\frac{Q}{\\omega_o}$ y $C=\\frac{1}{Q\\cdot\\omega_o}$"
   ]
  },
  {
   "cell_type": "markdown",
   "id": "e5f3290c",
   "metadata": {},
   "source": [
    "<centre><img src=\"./circ-ej5.png\"></centre>"
   ]
  },
  {
   "cell_type": "markdown",
   "id": "e199a5e8",
   "metadata": {},
   "source": [
    "<centre><img src=\"./sim-ej5.png\"></centre>"
   ]
  },
  {
   "cell_type": "markdown",
   "id": "22932e45",
   "metadata": {},
   "source": [
    "&emsp;$d)$&emsp;$\\Omega_Z=2.2k\\Omega\\;\\;\\;\\;\\;\\;\\;\\;\\;\\Omega_\\omega=2\\pi\\cdot9.6k$"
   ]
  },
  {
   "cell_type": "markdown",
   "id": "bfb9a564",
   "metadata": {},
   "source": [
    "$L_1 = \\frac{\\Omega_Z}{\\Omega_\\omega}  \\cdot L_{1N} = 14.115 mH$"
   ]
  },
  {
   "cell_type": "markdown",
   "id": "7fd78cc1",
   "metadata": {},
   "source": [
    "$C_2 = \\frac{C_{2N}}{\\Omega_Z \\cdot \\Omega_\\omega} = 4.713 nF$ &emsp; $L_2 = \\frac{\\Omega_Z}{\\Omega_\\omega}  \\cdot L_{2N} = 27 mH$"
   ]
  },
  {
   "cell_type": "markdown",
   "id": "f192b13d",
   "metadata": {},
   "source": [
    "$C_3 = \\frac{C_{3N}}{\\Omega_Z \\cdot \\Omega_\\omega} = 1.8086 nF$ &emsp; $L_3 = \\frac{\\Omega_Z}{\\Omega_\\omega}  \\cdot L_{3N} = 147.35 mH$"
   ]
  },
  {
   "cell_type": "markdown",
   "id": "5a0c5905",
   "metadata": {},
   "source": [
    "<centre><img src=\"./circ-ej5-v2.png\"></centre>"
   ]
  },
  {
   "cell_type": "markdown",
   "id": "5f4be11a",
   "metadata": {},
   "source": [
    "<centre><img src=\"./sim-ej5-v2.png\"></centre>"
   ]
  },
  {
   "cell_type": "markdown",
   "id": "89b4bf4c",
   "metadata": {},
   "source": [
    "&emsp;$e)$&emsp; Utilizando estructuras con OTAs, el valor de $L$ se reemplaza por $\\frac{C}{gm_1gm_2}$ utilizando $gm_1=gm_2=1mS$"
   ]
  },
  {
   "cell_type": "markdown",
   "id": "85692b3a",
   "metadata": {},
   "source": [
    "<centre><img src=\"./circ-ej5-v3.png\"></centre>"
   ]
  },
  {
   "cell_type": "markdown",
   "id": "83525d34",
   "metadata": {},
   "source": [
    "<centre><img src=\"./sim-ej5-v3.png\"></centre>"
   ]
  },
  {
   "cell_type": "markdown",
   "id": "03558322",
   "metadata": {},
   "source": [
    "&emsp;6.&emsp;$\\omega_o=\\frac{1}{D}=10k\\frac{rad}{s}\\;\\;\\;\\;\\;\\;\\;\\;\\;\\;\n",
    "10\\%\\;error\\;en\\;\\omega_1=25k\\frac{rad}{s}\\;\\;\\;\\;\\;\\;\\;\\;\\;\\;\\alpha=1dB\\;a\\;\\omega_2=10k\\frac{rad}{s}$"
   ]
  },
  {
   "cell_type": "markdown",
   "id": "e3f27126",
   "metadata": {},
   "source": [
    "De las gráficas se obtiene que el mayor $n$ es el de $\\omega_{1N}=2.5$&emsp;&rarr;&emsp;$n=4$"
   ]
  },
  {
   "cell_type": "markdown",
   "id": "921f9509",
   "metadata": {},
   "source": [
    "$$cotgh(s)=\\frac{1}{s}+\\frac{1}{\\frac{3}{s}+\\frac{1}{\\frac{5}{s}+\\frac{1}{\\frac{7}{s}}}}=\\frac{105}{s^4+10s^3+45s^2+105s+105}$$"
   ]
  },
  {
   "cell_type": "markdown",
   "id": "a8f1caa0",
   "metadata": {},
   "source": [
    "Separando utilizando la función tf2sos_analog en python se obtiene."
   ]
  },
  {
   "cell_type": "code",
   "execution_count": 1,
   "id": "3796a6df",
   "metadata": {},
   "outputs": [
    {
     "name": "stdout",
     "output_type": "stream",
     "text": [
      "[[  0.           0.         -20.97058943   1.           5.79242121\n",
      "    9.14013089]\n",
      " [  0.           0.          -0.04768583   1.           4.20757879\n",
      "   11.48780048]]\n"
     ]
    }
   ],
   "source": [
    "import numpy as np\n",
    "import scipy.signal as sig\n",
    "from splane import tf2sos_analog\n",
    "\n",
    "num = np.array([1])\n",
    "den = np.array([1, 10, 45, 105, 105])\n",
    "\n",
    "mi_sos = sig.TransferFunction(num,den)        \n",
    "\n",
    "TF = tf2sos_analog(num, den)\n",
    "\n",
    "print (TF)"
   ]
  },
  {
   "cell_type": "markdown",
   "id": "7ef2444d",
   "metadata": {},
   "source": [
    "$$T(s)=\\frac{9.1401}{s^2+5.7924s+9.1401}\\cdot\\frac{11.4878}{s^2+4.20758s+11.4878}$$"
   ]
  },
  {
   "cell_type": "markdown",
   "id": "0b89a983",
   "metadata": {},
   "source": [
    "$$\\omega_{o1}=3.02326\\;\\;\\;\\;\\;Q_1=0.5219\\;\\;\\;\\;\\;\\;\\;\\;\\;\\;\\omega_{o2}=3.3894\\;\\;\\;\\;\\;Q_2=0.8055$$"
   ]
  },
  {
   "cell_type": "markdown",
   "id": "759d176c",
   "metadata": {},
   "source": [
    "Utilizando estructuras multiple feedback se calculan los componentes para ambas secciones. Elijo $\\Omega_Z=1k\\Omega$"
   ]
  },
  {
   "cell_type": "markdown",
   "id": "709ae92d",
   "metadata": {},
   "source": [
    "$$\\omega_o=\\frac{1}{\\sqrt{R_2R_1C_1C_2}}\\;\\;\\;\\;\\;\\;\\;\\;\\;\\;\\;\n",
    "\\frac{\\omega_o}{Q}=\\frac{1}{C_1}\\cdot(\\frac{1}{R_1}+\\frac{1}{R_2}+\\frac{1}{R_3})$$"
   ]
  },
  {
   "cell_type": "markdown",
   "id": "f7d26d36",
   "metadata": {},
   "source": [
    "$$Sección\\;1\\;\\;\\;\\;\\;\\;\\;\\omega_1=\\omega_{1N}\\cdot\\Omega_\\omega=3.02326\\cdot10k=30.2326k\\frac{rad}{s}$$"
   ]
  },
  {
   "cell_type": "markdown",
   "id": "6bfdbdcf",
   "metadata": {},
   "source": [
    "$$C_1=\\frac{Q_1}{\\omega_1}\\cdot(\\frac{1}{R_1}+\\frac{1}{R_2}+\\frac{1}{R_3})=\\frac{0.5219}{30.2326k}\\cdot\\frac{3}{1k}=51.79nF\n",
    "\\;\\;\\;\\;\\;\\;\\;\\omega_1^2=\\frac{1}{1k\\cdot1k\\cdot51.79nF\\cdot C_2}\\;\\;\\;\\;\\;\\;\\;C_2=21.1253nF$$"
   ]
  },
  {
   "cell_type": "markdown",
   "id": "37732d44",
   "metadata": {},
   "source": [
    "$$Sección\\;2\\;\\;\\;\\;\\;\\;\\;\\omega_2=\\omega_{2N}\\cdot\\Omega_\\omega=3.3894\\cdot10k=33.894k\\frac{rad}{s}$$"
   ]
  },
  {
   "cell_type": "markdown",
   "id": "334a0bc1",
   "metadata": {},
   "source": [
    "$$C_1=\\frac{Q_2}{\\omega_2}\\cdot(\\frac{1}{R_1}+\\frac{1}{R_2}+\\frac{1}{R_3})=\\frac{0.8055}{33.894k}\\cdot\\frac{3}{1k}=71.3nF\n",
    "\\;\\;\\;\\;\\;\\;\\;\\omega_2^2=\\frac{1}{1k\\cdot1k\\cdot51.79nF\\cdot C_2}\\;\\;\\;\\;\\;\\;\\;C_2=12.21nF$$"
   ]
  },
  {
   "cell_type": "markdown",
   "id": "3959ae92",
   "metadata": {},
   "source": [
    "<centre><img src=\"./sim-ej6.png\"></centre>"
   ]
  },
  {
   "cell_type": "markdown",
   "id": "45cb6a59",
   "metadata": {},
   "source": [
    "&emsp;7.&emsp; Pasa banda butterworth $f_{ci}=1600Hz$, $f_{cs}=2500Hz$, $K=10dB$, $\\alpha_{min}=20dB$ (tomo $30dB$ por los $10dB$ de ganancia en la banda de paso), $f_{si}=1250Hz$, $f_{ss}=3200Hz$"
   ]
  },
  {
   "cell_type": "markdown",
   "id": "319b8529",
   "metadata": {},
   "source": [
    "$$a)\\;\\;\\;\\;\\;\\;\\;\\;\\;f_o=\\sqrt{f_{ci}\\cdot f_{cs}}=2000Hz\\;\\;\\;\\;\\;\\;\\;\\;\\;Q=\\frac{f_o}{f_{cs}-f_{ci}}=\\frac{20}{9}=2.2222$$"
   ]
  },
  {
   "cell_type": "markdown",
   "id": "bed8c1f0",
   "metadata": {},
   "source": [
    "&emsp;&emsp;&emsp;&emsp;&emsp;&emsp;$f_{siN}=\\frac{1250Hz}{2000Hz}=0.625$&emsp;&emsp;\n",
    "$f_{ciN}=\\frac{1600Hz}{2000Hz}=0.8$&emsp;&emsp;$f_{oN}=1$&emsp;&emsp;\n",
    "$f_{csN}=\\frac{2500Hz}{2000Hz}=1.25$&emsp;&emsp;$f_{ssN}=\\frac{3200Hz}{2000kHz}=1.6$"
   ]
  },
  {
   "cell_type": "markdown",
   "id": "f29ceaed",
   "metadata": {},
   "source": [
    "$$\\Omega_{SN}=Q\\cdot \\frac{f_{ssN}^2-1}{f_{ssN}}=2.16\\;\\;\\;\\;\\;\\;\\;\\;\\;Es\\;igual\\;para\\;f_{siN}\\;\\;\\;\\;\\;\\;\\;\\;\\;\\epsilon=1\n",
    "\\;\\;\\;\\;\\;\\;\\;\\;\\;alpha_{min}=10\\cdot log(1+\\epsilon^2 \\cdot \\Omega_{SN}^{2\\cdot n})\\;\\;\\;\\;\\; n=5$$"
   ]
  },
  {
   "cell_type": "markdown",
   "id": "6c771d7a",
   "metadata": {},
   "source": [
    "$$Q_{LP1}=\\frac{1}{2\\cdot cos(36°)}=0.618\\;\\;\\;\\;\\;\\;\\;\\;\\;Q_{LP2}=\\frac{1}{2\\cdot cos(72°)}=1.618$$"
   ]
  },
  {
   "cell_type": "markdown",
   "id": "184e9dbc",
   "metadata": {},
   "source": [
    "$$T(s)_{LP}=\\frac{1}{s+1}\\cdot\\frac{1}{s^2+1.618s+1}\\cdot\\frac{1}{s^2+0.618s+1}$$"
   ]
  },
  {
   "cell_type": "markdown",
   "id": "0532fa64",
   "metadata": {},
   "source": [
    "$$T(s)_{BP}=\\frac{1}{Q\\cdot\\frac{s^2+1}{s}+1}\\cdot\\frac{1}{(Q\\cdot\\frac{s^2+1}{s})^2+1.618\\cdot Q\\cdot\\frac{s^2+1}{s}+1}\\cdot\\frac{1}{(Q\\cdot\\frac{s^2+1}{s})^2+0.618\\cdot Q\\cdot\\frac{s^2+1}{s}+1}$$"
   ]
  },
  {
   "cell_type": "markdown",
   "id": "28d6fc6a",
   "metadata": {},
   "source": [
    "$$T(s)_{BP}=\\frac{s}{Qs^2+Q+s}\\cdot\\frac{1}{\\frac{Q^2(s^4+2s^2+1)+1.618Q(s^3+s)+s^2}{s^2}}\\cdot\\frac{1}{\\frac{Q^2(s^4+2s^2+1)+0.618Q(s^3+s)+s^2}{s^2}}$$"
   ]
  },
  {
   "cell_type": "markdown",
   "id": "3af3f4ff",
   "metadata": {},
   "source": [
    "$$T(s)_{BP}=\\frac{\\frac{1}{Q}s}{s^2+\\frac{1}{Q}s+1}\\cdot\\frac{s^2}{Q^2s^4+1.618Qs^3+(2Q^2+1)s^2+1.618Qs+Q^2}\n",
    "\\cdot\\frac{s^2}{Q^2s^4+0.618Qs^3+(2Q^2+1)s^2+0.618Qs+Q^2}$$"
   ]
  },
  {
   "cell_type": "markdown",
   "id": "10df41b4",
   "metadata": {},
   "source": [
    "$$T(s)_{BP}=\\frac{\\frac{1}{Q}s}{s^2+\\frac{1}{Q}s+1}\\cdot\\frac{\\frac{1}{Q^2}s^2}{s^4+\\frac{1.618}{Q}s^3+\\frac{(2Q^2+1)}{Q^2}s^2+\\frac{1.618}{Q}s+1}\\cdot\\frac{\\frac{1}{Q^2}s^2}{s^4+\\frac{0.618}{Q}s^3+\\frac{(2Q^2+1)}{Q^2}s^2+\\frac{0.618}{Q}s+1}$$"
   ]
  },
  {
   "cell_type": "markdown",
   "id": "e253df6c",
   "metadata": {},
   "source": [
    "$$T(s)_{BP}=\\frac{0.45s}{s^2+0.45s+1}\\cdot\\frac{0.2025s^2}{s^4+0.7281s^3+2.2025s^2+0.7281s+1}\n",
    "\\cdot\\frac{0.2025s^2}{s^4+0.2781s^3+2.2025s^2+0.2781s+1}$$"
   ]
  },
  {
   "cell_type": "code",
   "execution_count": 6,
   "id": "822aa5bd",
   "metadata": {},
   "outputs": [
    {
     "name": "stdout",
     "output_type": "stream",
     "text": [
      "[[ 0.          0.         13.11208795  1.          0.10988906  0.6532813 ]\n",
      " [ 0.          0.          0.0762655   1.          0.16821094  1.53073416]]\n"
     ]
    }
   ],
   "source": [
    "import numpy as np\n",
    "import scipy.signal as sig\n",
    "from splane import tf2sos_analog\n",
    "\n",
    "num = np.array([1]) \n",
    "den = np.array([1, 0.2781, 2.2025, 0.2781, 1])\n",
    "\n",
    "mi_sos = sig.TransferFunction(num,den)        \n",
    "\n",
    "TF = tf2sos_analog(num, den)\n",
    "\n",
    "print (TF)"
   ]
  },
  {
   "cell_type": "markdown",
   "id": "0beb8428",
   "metadata": {},
   "source": [
    "$$T(s)_{BP}=17.05\\cdot\n",
    "\\frac{0.45s}{s^2+0.45s+1}\\cdot\\frac{0.4125s}{s^2+0.4125s+1.3075}\\cdot\\frac{0.3155s}{s^2+0.3155s+0.7648}\\cdot\n",
    "\\frac{0.10989s}{s^2+0.109895s+0.6533}\\cdot\\frac{0.16821s}{s^2+0.16821s+1.5307}$$"
   ]
  },
  {
   "cell_type": "markdown",
   "id": "1efcbe68",
   "metadata": {},
   "source": [
    "$$\\omega_{o1}=1\\;\\;\\;\\;\\;Q_1=2.2222\\;\\;\\;\\;\\;\\;\\;\n",
    "\\omega_{o2}=1.1435\\;\\;\\;\\;\\;Q_2=2.77\\;\\;\\;\\;\\;\\;\\omega_{o3}=0.8745\\;\\;\\;\\;\\;Q_3=2.77$$"
   ]
  },
  {
   "cell_type": "markdown",
   "id": "de99e566",
   "metadata": {},
   "source": [
    "$$\\omega_{o4}=0.8083\\;\\;\\;\\;\\;Q_4=7.355\\;\\;\\;\\;\\;\\omega_{o5}=1.24\\;\\;\\;\\;\\;Q_5=7.355$$"
   ]
  },
  {
   "cell_type": "markdown",
   "id": "2d7df563",
   "metadata": {},
   "source": [
    "&emsp;$b)$&emsp;$c)$&emsp;La transferencia de grado 10 se obtiene con un programa de python adjunto con el TP llamado \"mult-TF.py\""
   ]
  },
  {
   "cell_type": "code",
   "execution_count": 7,
   "id": "b435fa09",
   "metadata": {
    "scrolled": true
   },
   "outputs": [
    {
     "data": {
      "image/png": "[encoded data removed]",
      "text/plain": [
       "<Figure size 432x288 with 2 Axes>"
      ]
     },
     "metadata": {
      "needs_background": "light"
     },
     "output_type": "display_data"
    },
    {
     "data": {
      "image/png": "[encoded data removed]",
      "text/plain": [
       "<Figure size 432x288 with 1 Axes>"
      ]
     },
     "metadata": {
      "needs_background": "light"
     },
     "output_type": "display_data"
    },
    {
     "data": {
      "image/png": "[encoded data removed]",
      "text/plain": [
       "<Figure size 432x288 with 1 Axes>"
      ]
     },
     "metadata": {
      "needs_background": "light"
     },
     "output_type": "display_data"
    }
   ],
   "source": [
    "import matplotlib.pyplot as plt\n",
    "import numpy as np\n",
    "import scipy.signal as sig\n",
    "from splane import analyze_sys\n",
    "\n",
    "num = np.array([0.018453, 0, 0, 0, 0, 0]) \n",
    "den = np.array([1, 1.4562, 6.0603, 6.3019, 13.3135, 9.71, 13.3135, 6.3019, 6.0603, 1.4562, 1])\n",
    "\n",
    "BP = sig.TransferFunction(num,den)    \n",
    "\n",
    "analyze_sys(BP, 'BP')  "
   ]
  },
  {
   "cell_type": "markdown",
   "id": "b7bdc1e4",
   "metadata": {},
   "source": [
    "&emsp;$d)$ Para las estructuras Ackerberg-Mossberg elijo como norma de impedancia $\\Omega_Z=1k\\Omega$ y tomo $\\Omega_\\omega=2\\pi\\cdot f_o=4000\\pi$. Quiero una ganancia en la banda de paso de $10dB$ por lo tanto tomo $k=13dB$, por lo que cada sección ganará $2.6dB= 1.82veces$"
   ]
  },
  {
   "cell_type": "markdown",
   "id": "64334f93",
   "metadata": {},
   "source": [
    "$$Sección\\;1\\;\\;\\;\\;\\;\\;\\;\\omega_o=1\\;\\;\\;\\;\\;\\;\\;Q=2.2222\\;\\;\\;\\;\\;\\;\\;k=1.82\\;veces$$"
   ]
  },
  {
   "cell_type": "markdown",
   "id": "184856b6",
   "metadata": {},
   "source": [
    "$$R=1k\\Omega\\;\\;\\;\\;\\;\\;\\;C=\\frac{1}{1k\\Omega\\cdot\\Omega_\\omega}=79.6nF\\;\\;\\;\\;\\;\\;\\;QR=2.22k\\Omega\n",
    "\\;\\;\\;\\;\\;\\;\\;R/k=550\\Omega$$"
   ]
  },
  {
   "cell_type": "markdown",
   "id": "5ec1e47c",
   "metadata": {},
   "source": [
    "$$Sección\\;2\\;\\;\\;\\;\\;\\;\\;\\omega_o=1.1435\\;\\;\\;\\;\\;\\;\\;Q=2.77\\;\\;\\;\\;\\;\\;\\;k=1.82\\;veces$$"
   ]
  },
  {
   "cell_type": "markdown",
   "id": "75013a83",
   "metadata": {},
   "source": [
    "$$R=1k\\Omega\\;\\;\\;\\;\\;\\;\\;C=\\frac{1}{1k\\Omega\\cdot0.823\\cdot\\Omega_\\omega}=69.59nF\\;\\;\\;\\;\\;\\;\\;QR=2.77k\\Omega\n",
    "\\;\\;\\;\\;\\;\\;\\;R/k=550\\Omega$$"
   ]
  },
  {
   "cell_type": "markdown",
   "id": "f71cf18e",
   "metadata": {},
   "source": [
    "$$Sección\\;3\\;\\;\\;\\;\\;\\;\\;\\omega_o=0.8745\\;\\;\\;\\;\\;\\;\\;Q=2.77\\;\\;\\;\\;\\;\\;\\;k=1.82\\;veces$$"
   ]
  },
  {
   "cell_type": "markdown",
   "id": "87c959fb",
   "metadata": {},
   "source": [
    "$$R=1k\\Omega\\;\\;\\;\\;\\;\\;\\;C=\\frac{1}{1k\\Omega\\cdot1.215\\cdot\\Omega_\\omega}=91nF\\;\\;\\;\\;\\;\\;\\;QR=2.77k\\Omega\n",
    "\\;\\;\\;\\;\\;\\;\\;R/k=550\\Omega$$"
   ]
  },
  {
   "cell_type": "markdown",
   "id": "194e9ca8",
   "metadata": {},
   "source": [
    "$$Sección\\;4\\;\\;\\;\\;\\;\\;\\;\\omega_o=0.8083\\;\\;\\;\\;\\;\\;\\;Q=7.355\\;\\;\\;\\;\\;\\;\\;k=1.82\\;veces$$"
   ]
  },
  {
   "cell_type": "markdown",
   "id": "38ce266b",
   "metadata": {},
   "source": [
    "$$R=1k\\Omega\\;\\;\\;\\;\\;\\;\\;C=\\frac{1}{1k\\Omega\\cdot0.823\\cdot\\Omega_\\omega}=98.5nF\\;\\;\\;\\;\\;\\;\\;QR=7.355k\\Omega\n",
    "\\;\\;\\;\\;\\;\\;\\;R/k=550\\Omega$$"
   ]
  },
  {
   "cell_type": "markdown",
   "id": "75855053",
   "metadata": {},
   "source": [
    "$$Sección\\;5\\;\\;\\;\\;\\;\\;\\;\\omega_o=1.24\\;\\;\\;\\;\\;\\;\\;Q=7.355\\;\\;\\;\\;\\;\\;\\;k=1.82\\;veces$$"
   ]
  },
  {
   "cell_type": "markdown",
   "id": "0f377f20",
   "metadata": {},
   "source": [
    "$$R=1k\\Omega\\;\\;\\;\\;\\;\\;\\;C=\\frac{1}{1k\\Omega\\cdot1.215\\cdot\\Omega_\\omega}=64.2nF\\;\\;\\;\\;\\;\\;\\;QR=7.355k\\Omega\n",
    "\\;\\;\\;\\;\\;\\;\\;R/k=550\\Omega$$"
   ]
  },
  {
   "cell_type": "markdown",
   "id": "50147e7d",
   "metadata": {},
   "source": [
    "<centre><img src=\"./sim-ej7.png\"></centre>"
   ]
  },
  {
   "cell_type": "markdown",
   "id": "0608a525",
   "metadata": {},
   "source": [
    "&emsp;8.&emsp;Tono deseado&emsp;&rarr;&emsp;$45 kHz\\;\\; 200 mV$ &emsp;$\\alpha_{max}=1dB$ &emsp;$K=0dB$"
   ]
  },
  {
   "cell_type": "markdown",
   "id": "ab24661d",
   "metadata": {},
   "source": [
    "Tono indeseado&emsp;&rarr;&emsp;$12 kHz\\;\\; 2 V$ &emsp;$\\alpha_{min}=2\\%\\cdot 200mV$ &emsp;&rarr;&emsp;debe pasar de $2V$ a $4mV$&emsp;&rarr;&emsp;$\\alpha_{min}=500 veces$"
   ]
  },
  {
   "cell_type": "markdown",
   "id": "bf9d94b6",
   "metadata": {},
   "source": [
    "$\\Omega_\\omega=\\omega_p$&emsp;$\\omega_{SN}=0.26667$&emsp;&rarr;&emsp;$\\Omega_{SN}=3.75$"
   ]
  },
  {
   "cell_type": "markdown",
   "id": "2338a6ab",
   "metadata": {},
   "source": [
    "$$\\epsilon^2 = 10^{0.1\\cdot 1dB}-1=0.26\\;\\;\\;\\;\\;\n",
    "alpha_{min}[veces]=1+\\epsilon^2 \\cdot cosh^2(n\\cdot cosh^{-1}(\\Omega_{SN}))\\;\\;\\;\\;\\; con\\;n=3\\;\\;\\;alpha_{min}[veces]=10368.525390625$$"
   ]
  },
  {
   "cell_type": "markdown",
   "id": "84694ee1",
   "metadata": {},
   "source": [
    "De la página 288 del Schaumann obtengo que los polos se encuentran en"
   ]
  },
  {
   "cell_type": "markdown",
   "id": "27308b9a",
   "metadata": {},
   "source": [
    "$$p_1=-0.4942+j0\\;\\;\\;\\;\\;\\;\\;\\;\\;\\;p_{2,3}=-0.2471\\pm 0.966$$"
   ]
  },
  {
   "cell_type": "markdown",
   "id": "172e8fdd",
   "metadata": {},
   "source": [
    "$$T(s)_{LP}=\\frac{0.4942}{s+0.4942}\\cdot\\frac{1}{s^2+0.495s+1}\\;\\;\\;\\;\\;\\;\\;\\;\\omega_o=1\\;\\;\\;\\;\\;Q=2.02$$"
   ]
  },
  {
   "cell_type": "markdown",
   "id": "dda08e8c",
   "metadata": {},
   "source": [
    "$$T(s)_{HP}=\\frac{0.4942}{\\frac{1}{s}+0.4942}\\cdot\\frac{1}{(\\frac{1}{s})^2+0.495\\cdot\\frac{1}{s}+1}$$"
   ]
  },
  {
   "cell_type": "markdown",
   "id": "447f1385",
   "metadata": {},
   "source": [
    "$$T(s)_{HP}=\\frac{0.4942s}{1+0.4942s}\\cdot\\frac{1}{\\frac{1+0.495s+s^2}{s^2}}=\\frac{s}{s+2.02}\\cdot\\frac{s^2}{s^2+0.495s+1}\n",
    "\\;\\;\\;\\;\\;\\;\\;\\;\\omega_o=1\\;\\;\\;\\;\\;Q=2.02$$"
   ]
  },
  {
   "cell_type": "markdown",
   "id": "234e36d3",
   "metadata": {},
   "source": [
    "Para utilizar la estructura pedida calculo primero la transferencia de la misma"
   ]
  },
  {
   "cell_type": "markdown",
   "id": "9d1606a0",
   "metadata": {},
   "source": [
    "<centre><img src=\"./circ-ej8.png\"></centre>"
   ]
  },
  {
   "cell_type": "markdown",
   "id": "1344ebec",
   "metadata": {},
   "source": [
    "$$V_o\\cdot gm_1=V_x\\cdot sC_1\\;\\;\\;\\;\\;\\;\\;(V_x-V_o)\\cdot gm_2=i_2=(V_o-V_i)\\cdot sC_2$$"
   ]
  },
  {
   "cell_type": "markdown",
   "id": "e28a72d1",
   "metadata": {},
   "source": [
    "$$(V_o\\cdot\\frac{gm_1}{sC_1}-V_o)\\cdot gm_2=(V_o-V_i)\\cdot sC_2$$"
   ]
  },
  {
   "cell_type": "markdown",
   "id": "1b19b762",
   "metadata": {},
   "source": [
    "$$V_i\\cdot sC_2=V_o\\cdot sC_2+V_o\\cdot gm_2-V_o\\cdot\\frac{gm_1gm_2}{sC_1}$$"
   ]
  },
  {
   "cell_type": "markdown",
   "id": "85ce1c4f",
   "metadata": {},
   "source": [
    "$$\\frac{sC_2}{sC_2+gm_2-\\frac{gm_1gm_2}{sC_1}}=\\frac{V_o}{V_i}$$"
   ]
  },
  {
   "cell_type": "markdown",
   "id": "e2cf6e16",
   "metadata": {},
   "source": [
    "$$T(s)=\\frac{V_o}{V_i}=\\frac{sC_2}{\\frac{s^2C_1C_2+sC_1gm_2-gm_1gm_2}{sC_1}}=\\frac{s^2C_1C_2}{s^2C_1C_2+sC_1gm_2-gm_1gm_2}$$"
   ]
  },
  {
   "cell_type": "markdown",
   "id": "4e86d8e4",
   "metadata": {},
   "source": [
    "$$T(s)=\\frac{s^2}{s^2+s\\frac{gm_2}{C_2}-\\frac{gm_1gm_2}{C_1C_2}}\\;\\;\\;\\;\\;\\;\\;\\omega_o^2=\\frac{gm_1gm_2}{C_1C_2}\n",
    "\\;\\;\\;\\;\\;\\;\\;\\frac{\\omega_o}{Q}=\\frac{gm_2}{C_2}$$"
   ]
  },
  {
   "cell_type": "markdown",
   "id": "e961fb75",
   "metadata": {},
   "source": [
    "Diseñando con $C_1=C_2=C=10nF$ logramos la transferencia deseada ajustando los $gm$ de cada OTA"
   ]
  },
  {
   "cell_type": "markdown",
   "id": "afbd1221",
   "metadata": {},
   "source": [
    "$$gm_2=\\frac{\\omega_o}{Q}\\cdot C=\\frac{2\\pi\\cdot45k}{2.02}\\cdot 10\\cdot10^{-9}=1.4mS$$"
   ]
  },
  {
   "cell_type": "markdown",
   "id": "0ba2906c",
   "metadata": {},
   "source": [
    "$$gm_1=\\frac{\\omega_o^2\\cdot C^2}{gm_2}=\\frac{(2\\pi\\cdot45k)^2\\cdot (10\\cdot10^{-9})^2}{1.4\\cdot10^{-3}}=5.71mS$$"
   ]
  },
  {
   "cell_type": "markdown",
   "id": "6af521a1",
   "metadata": {},
   "source": [
    "Para la sección de primer órden elijo $R=1k\\Omega$"
   ]
  },
  {
   "cell_type": "markdown",
   "id": "4051326a",
   "metadata": {},
   "source": [
    "$$\\omega_o=\\frac{R}{L}\\;\\;\\;\\;\\;\\;\\;L=\\frac{1k}{2.02\\cdot2\\pi\\cdot45k}=1.75mH$$"
   ]
  }
 ],
 "metadata": {
  "kernelspec": {
   "display_name": "Python 3 (ipykernel)",
   "language": "python",
   "name": "python3"
  },
  "language_info": {
   "codemirror_mode": {
    "name": "ipython",
    "version": 3
   },
   "file_extension": ".py",
   "mimetype": "text/x-python",
   "name": "python",
   "nbconvert_exporter": "python",
   "pygments_lexer": "ipython3",
   "version": "3.9.7"
  }
 },
 "nbformat": 4,
 "nbformat_minor": 5
}
