{
 "cells": [
  {
   "cell_type": "markdown",
   "id": "d1919ddd",
   "metadata": {},
   "source": [
    "# Trabajo práctico N°2\n",
    "#### Matías Blas Tassone "
   ]
  },
  {
   "cell_type": "markdown",
   "id": "6d85bc5c",
   "metadata": {},
   "source": [
    "&emsp;1.&emsp; Pasa bajos butterworth RLC de orden 2 con $f_c=1kHz$ &emsp;&rarr;&emsp;$\\epsilon=1$&emsp;$\\omega_o=2\\pi\\cdot f_c$&emsp; polos en $\\pm 45°$ respecto de eje $-\\sigma$"
   ]
  },
  {
   "cell_type": "markdown",
   "id": "1c1a9e7c",
   "metadata": {},
   "source": [
    "$$T(s)=\\frac{\\frac{1}{LC}}{s^2+\\frac{1}{RC} \\cdot s +\\frac{1}{LC}}\\;\\;\\;\\;\\;\\;\\;\\;\\;\\;\\;\\;T_N(s)=\\frac{1}{s^2+\\sqrt{2}\\cdot s +1}$$"
   ]
  },
  {
   "cell_type": "markdown",
   "id": "91ebb42d",
   "metadata": {},
   "source": [
    " $$R_N=1\\;\\;\\;\\;\\;\\;\\;\\;\\;\\;C_{N} = \\frac{\\sqrt{2}}{2}\\;\\;\\;\\;\\;\\;\\;\\;\\;\\;L_{N} = \\sqrt{2}$$"
   ]
  },
  {
   "cell_type": "markdown",
   "id": "f42a223e",
   "metadata": {},
   "source": [
    "$$\\Omega_Z=1k\\Omega\\;\\;\\;\\;\\;\\;\\;\\;\\;\\;\\Omega_\\omega=2000\\pi\\;\\;\\;\\;\\;\\;\\;\\;\\;\\;C = \\frac{C_{N}}{\\Omega_Z \\cdot \\Omega_\\omega} =  112.5nF \\;\\;\\;\\;\\;\\;\\;\\;\\;\\;\n",
    "L = \\frac{\\Omega_Z}{\\Omega_\\omega}  \\cdot L_{N} =  225.08mH$$"
   ]
  },
  {
   "cell_type": "markdown",
   "id": "419be6f2",
   "metadata": {},
   "source": [
    "<centre><img src=\"./ej1.png\"></centre>"
   ]
  },
  {
   "cell_type": "markdown",
   "id": "4c83da93",
   "metadata": {},
   "source": [
    "&emsp;2.&emsp; $\\alpha_{max}=0.5 dB$&emsp;$\\alpha_{min}=20 dB$&emsp; $f_p=1 kHz$&emsp; $f_c=2kHz$"
   ]
  },
  {
   "cell_type": "markdown",
   "id": "17ed63d6",
   "metadata": {},
   "source": [
    "$$a) \\;\\;\\;\\;\\;\\;\\;\\;\\;\\;\\;\\;\\;\\;\\;\\epsilon^2=10^{0.1\\cdot\\alpha_{max}}-1=0.122\\;\\;\\;\\;\\;\\;\\;\\;\\;\\\n",
    "alpha_{min}=10\\cdot log(1+\\epsilon^2 \\cdot \\omega_{SN}^{2\\cdot n})\\;\\;\\;\\;\\; n=5$$"
   ]
  },
  {
   "cell_type": "markdown",
   "id": "4278f22e",
   "metadata": {},
   "source": [
    "b)&emsp;$\\omega_{b}=2\\pi \\cdot f_p\\cdot\\epsilon^{-\\frac{1}{n}}=2468.3\\pi$&emsp;$\\omega_{bN}=1.234$\n",
    "&emsp;&rarr;&emsp; 5 polos en circunferencia de radio 1, uno ubicado sobre el eje $-\\sigma$ separados por ángulos de $\\frac{\\pi}{5}$"
   ]
  },
  {
   "cell_type": "markdown",
   "id": "3e3814bb",
   "metadata": {},
   "source": [
    "$$Q_1=0.5\\;\\;\\;\\;\\;\\;\\;Q_{2,3}=\\frac{1}{2\\cdot cos(36°)}=0.62\\;\\;\\;\\;\\;\\;\\;Q_{4,5}=\\frac{1}{2\\cdot cos(72°)}=1.62$$"
   ]
  },
  {
   "cell_type": "markdown",
   "id": "1641f714",
   "metadata": {},
   "source": [
    "c) Ganancia de $20dB$ en la banda de paso utilizando 2 estructuras Sallen-Key y un pasabajos $RC$ (orden 1). La transferencia es"
   ]
  },
  {
   "cell_type": "markdown",
   "id": "674a5ff7",
   "metadata": {},
   "source": [
    "$$T_{SK}(s)=\\frac{\\frac{K}{R_1R_2C_1C_2}}{s^2+[\\frac{1}{R_2C_2}+\\frac{1}{R_1C_2}+\\frac{1}{R_2C_1}\\cdot(1-K)]\\cdot s+\\frac{1}{R_1R_2C_1C_2}}\\;\\;\\;\\;\\;\\;\\;\\;\\; K=1+\\frac{R_4}{R_3}$$"
   ]
  },
  {
   "cell_type": "markdown",
   "id": "a25fb2ce",
   "metadata": {},
   "source": [
    "Elijo dividir las ganancias en ambas etapas para que ganen $10dB$ cada una &emsp;&rarr;&emsp;$\\frac{R_4}{R_3}=3.16$. Antes de comenzar elijo $\\Omega_Z=1k\\Omega$ y la ya definida $\\Omega_\\omega=2468.3\\pi$"
   ]
  },
  {
   "cell_type": "markdown",
   "id": "1b1d9771",
   "metadata": {},
   "source": [
    "$$Etapa\\;1\\;de\\;Q =0.62\\;\\;\\;\\;\\;\\;\\;\\;\\;\\omega_{oN}=1=\\frac{1}{C_{1N}C_{2N}}\\;\\;\\;\\;\\;\\;\\;\\;\\;Q=\\frac{1}{[\\frac{2}{C_{2N}}+\\frac{1}{C_{1N}}\\cdot(1-K)]}$$"
   ]
  },
  {
   "cell_type": "markdown",
   "id": "056d4c22",
   "metadata": {},
   "source": [
    "$$C_{1N}=\\frac{1}{C_{2N}}\\;\\;\\;\\;\\;\\;\\;\\;\\;0.62 = \\frac{C_{2N}C_{1N}}{2\\cdot C_{1N}+C_{2N}\\cdot (-2.16)}=\\frac{1}{2\\cdot C_{1N}-2.16\\cdot C_{2N}}$$"
   ]
  },
  {
   "cell_type": "markdown",
   "id": "91e7307c",
   "metadata": {},
   "source": [
    "$$1.24\\cdot C_{1N}-1.34\\cdot C_{2N}=1=1.24\\cdot C_{1N} - \\frac{1.34}{C_{1N}}$$"
   ]
  },
  {
   "cell_type": "markdown",
   "id": "44177ce0",
   "metadata": {},
   "source": [
    "$$1.24\\cdot C_{1N}^2 - C_{1N}-1.34=0\\;\\;\\;\\;\\;\\;\\;\\;\\;\\;\\;C_{1N}=1.52\\;\\;\\;\\;\\;\\;\\;\\;C_{2N}=0.66$$"
   ]
  },
  {
   "cell_type": "markdown",
   "id": "0e45b0ba",
   "metadata": {},
   "source": [
    "$$C_1 = \\frac{C_{1N}}{\\Omega_Z \\cdot \\Omega_\\omega} = 196 nF\\;\\;\\;\\;\\;\\;\n",
    "C_2 = \\frac{C_{2N}}{\\Omega_Z \\cdot \\Omega_\\omega} = 85.113 nF\\;\\;\\;\\;\\;\\;\n",
    "R_1=R_2=R_3=1k\\Omega\\;\\;\\;\\;\\;\\;R_4=3.16k\\Omega$$"
   ]
  },
  {
   "cell_type": "markdown",
   "id": "83c80031",
   "metadata": {},
   "source": [
    "$$Etapa\\;2\\;de\\;Q =1.62\\;\\;\\;\\;\\;\\;\\;\\;\\;\\omega_{oN}=1=\\frac{1}{C_{1N}C_{2N}}\\;\\;\\;\\;\\;\\;\\;\\;\\;Q=\\frac{1}{[\\frac{2}{C_{2N}}+\\frac{1}{C_{1N}}\\cdot(1-K)]}$$"
   ]
  },
  {
   "cell_type": "markdown",
   "id": "3cc8be7b",
   "metadata": {},
   "source": [
    "$$C_{1N}=\\frac{1}{C_{2N}}\\;\\;\\;\\;\\;\\;\\;\\;\\;1.62 =\\frac{1}{2\\cdot C_{1N}-2.16\\cdot C_{2N}}$$"
   ]
  },
  {
   "cell_type": "markdown",
   "id": "fa667fb2",
   "metadata": {},
   "source": [
    "$$3.24\\cdot C_{1N}-3.5\\cdot C_{2N}=1=3.24\\cdot C_{1N} - \\frac{3.5}{C_{1N}}$$"
   ]
  },
  {
   "cell_type": "markdown",
   "id": "17c575ea",
   "metadata": {},
   "source": [
    "$$3.24\\cdot C_{1N}^2 - C_{1N}-3.5=0\\;\\;\\;\\;\\;\\;\\;\\;\\;\\;\\;C_{1N}=1.2\\;\\;\\;\\;\\;\\;\\;\\;C_{2N}=0.83$$"
   ]
  },
  {
   "cell_type": "markdown",
   "id": "986caf35",
   "metadata": {},
   "source": [
    "$$C_1 = \\frac{C_{1N}}{\\Omega_Z \\cdot \\Omega_\\omega} = 154.75 nF\\;\\;\\;\\;\\;\\;\n",
    "C_2 = \\frac{C_{2N}}{\\Omega_Z \\cdot \\Omega_\\omega} = 107 nF\\;\\;\\;\\;\\;\\;\n",
    "R_1=R_2=R_3=1k\\Omega\\;\\;\\;\\;\\;\\;R_4=3.16k\\Omega$$"
   ]
  },
  {
   "cell_type": "markdown",
   "id": "c43ee392",
   "metadata": {},
   "source": [
    "$$Etapa\\;de\\;orden\\;1\\;\\;\\;\\;\\;\\;T(s)=\\frac{\\frac{1}{RC}}{s+\\frac{1}{RC}}\\;\\;\\;\\;\\;\\;\n",
    "R=1k\\Omega\\;\\;\\;\\;\\;\\;C=129 nF$$"
   ]
  },
  {
   "cell_type": "markdown",
   "id": "f85f14d5",
   "metadata": {},
   "source": [
    "<centre><img src=\"./circ-ej2.png\"></centre>"
   ]
  },
  {
   "cell_type": "markdown",
   "id": "e694e7db",
   "metadata": {},
   "source": [
    "<centre><img src=\"./sim-ej2.png\"></centre>"
   ]
  },
  {
   "cell_type": "markdown",
   "id": "14671789",
   "metadata": {},
   "source": [
    "&emsp;3.&emsp; $\\alpha_{max}=0.4 dB$&emsp;$\\alpha_{min}=48 dB$&emsp; $f_p=3.2 kHz$&emsp; $f_c=9.6kHz$&emsp; $Chebyshev$\n",
    "&emsp;&rarr;&emsp;$\\Omega_\\omega=\\omega_p$&emsp;$\\omega_{SN}=3$"
   ]
  },
  {
   "cell_type": "markdown",
   "id": "f41e8c4b",
   "metadata": {},
   "source": [
    "$$a)\\;\\;\\;\\;\\;\\;\\;\\;\\;\\;\\epsilon^2 = 10^{0.1\\cdot 0.4dB}-1=0.0965\\;\\;\\;\\;\\;\n",
    "alpha_{min}=10\\cdot log(1+\\epsilon^2 \\cdot cosh^2(n\\cdot cosh^{-1}(\\omega_{SN}))\\;\\;\\;\\;\\; n=5$$"
   ]
  },
  {
   "cell_type": "markdown",
   "id": "6fb35b00",
   "metadata": {},
   "source": [
    "<centre><img src=\"./ej3-b.png\"></centre>"
   ]
  },
  {
   "cell_type": "markdown",
   "id": "2417b8b3",
   "metadata": {},
   "source": [
    "$$c)\\;\\;\\;\\;\\;\\;\\;\\;\\;\\;a=\\frac{1}{n}\\cdot senh^{-1}(\\frac{1}{\\epsilon}) = 0.378\\;\\;\\;\\;\\;\\;\\;\\;\\;\\;\n",
    "senh(a)=0.387\\;\\;\\;\\;\\;\\;\\;\\;\\;\\;cosh(a)=1.072$$"
   ]
  },
  {
   "cell_type": "markdown",
   "id": "7dec5a52",
   "metadata": {},
   "source": [
    "$$\\sigma_k=-senh(a)\\cdot sen(\\frac{2k-1}{2n}\\cdot \\pi)\\;\\;\\;\\;\\;\\;\\;\\;\\;\\;\\omega_k=cosh(a)\\cdot cos(\\frac{2k-1}{2n}\\cdot \\pi)\n",
    "\\;\\;\\;\\;\\;\\;\\;\\;\\;\\;k=1,\\;2,\\;...,\\;n.$$"
   ]
  },
  {
   "cell_type": "markdown",
   "id": "d9513440",
   "metadata": {},
   "source": [
    "$$p_1=-0.387+j0\\;\\;\\;\\;\\;\\;\\;\\;\\;\\;p_{2,3}=-0.313\\pm 0.604\\;\\;\\;\\;\\;\\;\\;\\;\\;\\;p_{4,5}=-0.12\\pm 0.977$$"
   ]
  },
  {
   "cell_type": "markdown",
   "id": "5c021cac",
   "metadata": {},
   "source": [
    "$$d)\\;\\;\\;\\;\\;\\;\\;\\;\\;\\;T(s)=\\frac{0.387}{s+0.387}\\cdot\\frac{0.463}{s^2+0.625\\cdot s+0.463}\\cdot\\frac{0.969}{s^2+0.24\\cdot s+0.969}$$"
   ]
  },
  {
   "cell_type": "markdown",
   "id": "8f48dbce",
   "metadata": {},
   "source": [
    "$$\\omega_{o1}=0.68\\;\\;\\;\\;\\;Q_1=1.088\\;\\;\\;\\;\\;\\;\\;\\;\\;\\;\\omega_{o2}=0.984\\;\\;\\;\\;\\;Q_2=4.103$$"
   ]
  },
  {
   "cell_type": "markdown",
   "id": "0369845c",
   "metadata": {},
   "source": [
    "Como norma de impedancia elijo $\\Omega_Z=1k\\Omega$ y todas las ganancias del circuito serán de $0dB$. También $R_4=R_5=R$ y $C_1=C_2=C$ por recomendación del fabricante. Del mismo obtengo las fórmulas para deducir lo siguiente."
   ]
  },
  {
   "cell_type": "markdown",
   "id": "09eb19b6",
   "metadata": {},
   "source": [
    "<centre><img src=\"./formulas-KHN.png\"></centre>"
   ]
  },
  {
   "cell_type": "markdown",
   "id": "15232fcb",
   "metadata": {},
   "source": [
    "$$R_1=R_2=R_3=1\\;\\;\\;\\;\\;\\;\\;\\;\\;\\;\\;\\;\\;\\;\\;\\omega_o=\\frac{1}{RC}\n",
    "\\;\\;\\;\\;\\;\\;\\;\\;\\;\\;\\;\\;\\;\\;\\;Q=\\frac{R_6}{R_7\\cdot\\sqrt{R_2R_3}\\cdot(R_1//R_2//R_3)}=\n",
    "\\frac{R_6}{R_7}\\cdot\\frac{1}{\\Omega_Z\\cdot\\frac{\\Omega_Z}{3}}=\\frac{3}{\\Omega_Z^2}\\cdot\\frac{R_6}{R_7}$$"
   ]
  },
  {
   "cell_type": "markdown",
   "id": "39cd07e3",
   "metadata": {},
   "source": [
    "Para la etapa N°1 de $\\omega_{o1}=0.68$ y $Q_1=1.088$ procedo con los cálculos de componentes. Tomando $R=R_7=\\Omega_Z$"
   ]
  },
  {
   "cell_type": "markdown",
   "id": "90647391",
   "metadata": {},
   "source": [
    "$$C=\\frac{1}{0.68}=1.4706\\;\\;\\;\\;\\;\\;\\;\\;\\;\\;\\;\\;\\;\\;\\;R_6=\\frac{Q\\cdot\\Omega_Z^2}{3}=362.6k$$"
   ]
  },
  {
   "cell_type": "markdown",
   "id": "34ff4d0a",
   "metadata": {},
   "source": [
    "$$C = \\frac{C_{N}}{\\Omega_Z \\cdot \\Omega_\\omega}= \\frac{1.4706}{1k\\cdot2\\pi\\cdot3.2k} = 73.14 nF\\;\\;\\;\\;\\;\\;\n",
    "R_1=R_2=R_3=R_4=R_5=R_7=1k\\Omega\\;\\;\\;\\;\\;\\;R_6=362.6M\\Omega$$"
   ]
  },
  {
   "cell_type": "markdown",
   "id": "fdbf21b1",
   "metadata": {},
   "source": [
    "Para la etapa N°2 de $\\omega_{o2}=0.984$ y $Q_2=4.103$ procedo con los cálculos de componentes. Tomando $R=R_7=\\Omega_Z$"
   ]
  },
  {
   "cell_type": "markdown",
   "id": "dfa24e46",
   "metadata": {},
   "source": [
    "$$C=\\frac{1}{0.984}=1.01626\\;\\;\\;\\;\\;\\;\\;\\;\\;\\;\\;\\;\\;\\;\\;R_6=\\frac{Q\\cdot\\Omega_Z^2}{3}=1367.7k$$"
   ]
  },
  {
   "cell_type": "markdown",
   "id": "5d6ea7f2",
   "metadata": {},
   "source": [
    "$$C = \\frac{C_{N}}{\\Omega_Z \\cdot \\Omega_\\omega}= \\frac{1.01626}{1k\\cdot2\\pi\\cdot3.2k} = 50.54 nF\\;\\;\\;\\;\\;\\;\n",
    "R_1=R_2=R_3=R_4=R_5=R_7=1k\\Omega\\;\\;\\;\\;\\;\\;R_6=1367.7M\\Omega$$"
   ]
  },
  {
   "cell_type": "markdown",
   "id": "2a3dbf03",
   "metadata": {},
   "source": [
    "Para la etapa de primer orden utilizo un circuito $RC$ simple."
   ]
  },
  {
   "cell_type": "markdown",
   "id": "fd1e75c6",
   "metadata": {},
   "source": [
    "$$R=1k\\Omega\\;\\;\\;\\;\\;\\;\\;\\;\\;\\omega_o=0.387 \\cdot 2\\pi\\cdot3.2k=7781.1\\;\\;\\;\\;\\;\\;\\;\\;\\;C=\\frac{1}{1k\\Omega\\cdot7781.1}=128.52nF$$"
   ]
  },
  {
   "cell_type": "markdown",
   "id": "e3abc63c",
   "metadata": {},
   "source": [
    "<centre><img src=\"./circ-ej3.png\"></centre>"
   ]
  },
  {
   "cell_type": "markdown",
   "id": "d0af5ab3",
   "metadata": {},
   "source": [
    "<centre><img src=\"./sim-ej3.png\"></centre>"
   ]
  },
  {
   "cell_type": "markdown",
   "id": "2c5de3c5",
   "metadata": {},
   "source": [
    "A pesar de que con los valores calculados se cumple con los valores de $\\omega_o$ y de $Q$ para cada sección utilizando las fórmulas del fabricante, la simulación no muestra lo esperado."
   ]
  },
  {
   "cell_type": "markdown",
   "id": "2e5bad9d",
   "metadata": {},
   "source": [
    "&emsp;4.&emsp; Resuelto en la TS3, se encuentra en https://github.com/mtassone1/TC2_2022/blob/main/TS3/TS3.ipynb"
   ]
  },
  {
   "cell_type": "markdown",
   "id": "5353c0bf",
   "metadata": {},
   "source": [
    "&emsp;5.&emsp; $\\alpha_{max}=0.4 dB$&emsp;$\\alpha_{min}=48 dB$&emsp; $f_s=3.2 kHz$&emsp; $f_p=9.6kHz$&emsp; $Chebyshev$\n",
    "&emsp;&rarr;&emsp;$\\Omega_\\omega=\\omega_p$&emsp;$\\omega_{SN}=\\frac{1}{3}$&emsp;&rarr;&emsp;$\\Omega_{SN}=3$"
   ]
  },
  {
   "cell_type": "markdown",
   "id": "99dcec18",
   "metadata": {},
   "source": [
    "$$a)\\;\\;\\;\\;\\;\\;\\;\\;\\;\\;\\epsilon^2 = 10^{0.1\\cdot 0.4dB}-1=0.0965\\;\\;\\;\\;\\;\n",
    "alpha_{min}=10\\cdot log(1+\\epsilon^2 \\cdot cosh^2(n\\cdot cosh^{-1}(\\Omega_{SN}))\\;\\;\\;\\;\\; n=5$$"
   ]
  },
  {
   "cell_type": "markdown",
   "id": "b7ae6a43",
   "metadata": {},
   "source": [
    "&emsp;$b)$&emsp;Son los mismos polos que en el ejercicio 3. Por lo tanto la transferencia pasa bajos normalizada será la misma. En este caso, los polos en vez de encontrarse sobre una circunferencia, se encuentran sobre una elipse y más cerca del eje $j\\omega$, por eso los valores de Q más elevados."
   ]
  },
  {
   "cell_type": "markdown",
   "id": "cbcb5df7",
   "metadata": {},
   "source": [
    "$$p_1=-0.387+j0\\;\\;\\;\\;\\;\\;\\;\\;\\;\\;p_{2,3}=-0.313\\pm 0.604\\;\\;\\;\\;\\;\\;\\;\\;\\;\\;p_{4,5}=-0.12\\pm 0.977$$"
   ]
  },
  {
   "cell_type": "markdown",
   "id": "86f6d728",
   "metadata": {},
   "source": [
    "$$c)\\;\\;\\;\\;\\;\\;\\;\\;\\;\\;T(s)_{LP}=\\frac{0.387}{s+0.387}\\cdot\\frac{0.463}{s^2+0.625\\cdot s+0.463}\\cdot\\frac{0.969}{s^2+0.24\\cdot s+0.969}$$"
   ]
  },
  {
   "cell_type": "markdown",
   "id": "720fcdfc",
   "metadata": {},
   "source": [
    "$$\\omega_{o1}=0.68\\;\\;\\;\\;\\;Q_1=1.088\\;\\;\\;\\;\\;\\;\\;\\;\\;\\;\\omega_{o2}=0.984\\;\\;\\;\\;\\;Q_2=4.103$$"
   ]
  },
  {
   "cell_type": "markdown",
   "id": "ba9c2d47",
   "metadata": {},
   "source": [
    "$$T(s)_{HP}=\\frac{0.387}{\\frac{1}{s}+0.387}\\cdot\\frac{0.463}{(\\frac{1}{s})^2+0.625\\cdot \\frac{1}{s}+0.463}\\cdot\\frac{0.969}{(\\frac{1}{s})^2+0.24\\cdot \\frac{1}{s}+0.969}$$"
   ]
  },
  {
   "cell_type": "markdown",
   "id": "03761ed5",
   "metadata": {},
   "source": [
    "$$T(s)_{HP}=\\frac{s\\cdot 0.387}{1+s\\cdot 0.387}\\cdot\n",
    "\\frac{0.463\\cdot s^2}{1+0.625\\cdot s+0.463\\cdot s^2}\\cdot\n",
    "\\frac{0.969\\cdot s^2}{1+0.24\\cdot s+0.969\\cdot s^2}$$"
   ]
  },
  {
   "cell_type": "markdown",
   "id": "71d3e992",
   "metadata": {},
   "source": [
    "$$T(s)_{HP}=\\frac{s}{s+2.584}\\cdot\n",
    "\\frac{s^2}{2.16+1.35\\cdot s+s^2}\\cdot\n",
    "\\frac{s^2}{1.032+0.2477\\cdot s+s^2}$$"
   ]
  },
  {
   "cell_type": "markdown",
   "id": "c34d3c23",
   "metadata": {},
   "source": [
    "$$T(s)_{HP}=\\frac{s}{s+2.584}\\cdot\n",
    "\\frac{s^2}{s^2+1.35\\cdot s+2.16}\\cdot\n",
    "\\frac{s^2}{s^2+0.2477\\cdot s+1.032}$$"
   ]
  },
  {
   "cell_type": "markdown",
   "id": "bb66273c",
   "metadata": {},
   "source": [
    "$$\\omega_{o1}=1.4697\\;\\;\\;\\;\\;Q_1=1.088\\;\\;\\;\\;\\;\\;\\;\\;\\;\\;\\omega_{o2}=1.01587\\;\\;\\;\\;\\;Q_2=4.103$$"
   ]
  },
  {
   "cell_type": "markdown",
   "id": "072a7f83",
   "metadata": {},
   "source": [
    "Para la implementación normalizada $R=1$ y $L=\\frac{Q}{\\omega_o}$ y $C=\\frac{1}{Q\\cdot\\omega_o}$"
   ]
  },
  {
   "cell_type": "markdown",
   "id": "e5f3290c",
   "metadata": {},
   "source": [
    "<centre><img src=\"./circ-ej5.png\"></centre>"
   ]
  },
  {
   "cell_type": "markdown",
   "id": "e199a5e8",
   "metadata": {},
   "source": [
    "<centre><img src=\"./sim-ej5.png\"></centre>"
   ]
  },
  {
   "cell_type": "markdown",
   "id": "22932e45",
   "metadata": {},
   "source": [
    "&emsp;$d)$&emsp;$\\Omega_Z=2.2k\\Omega\\;\\;\\;\\;\\;\\;\\;\\;\\;\\Omega_\\omega=2\\pi\\cdot9.6k$"
   ]
  },
  {
   "cell_type": "markdown",
   "id": "bfb9a564",
   "metadata": {},
   "source": [
    "$L_1 = \\frac{\\Omega_Z}{\\Omega_\\omega}  \\cdot L_{1N} = 14.115 mH$"
   ]
  },
  {
   "cell_type": "markdown",
   "id": "7fd78cc1",
   "metadata": {},
   "source": [
    "$C_2 = \\frac{C_{2N}}{\\Omega_Z \\cdot \\Omega_\\omega} = 4.713 nF$ &emsp; $L_2 = \\frac{\\Omega_Z}{\\Omega_\\omega}  \\cdot L_{2N} = 27 mH$"
   ]
  },
  {
   "cell_type": "markdown",
   "id": "f192b13d",
   "metadata": {},
   "source": [
    "$C_3 = \\frac{C_{3N}}{\\Omega_Z \\cdot \\Omega_\\omega} = 1.8086 nF$ &emsp; $L_3 = \\frac{\\Omega_Z}{\\Omega_\\omega}  \\cdot L_{3N} = 147.35 mH$"
   ]
  },
  {
   "cell_type": "markdown",
   "id": "5a0c5905",
   "metadata": {},
   "source": [
    "<centre><img src=\"./circ-ej5-v2.png\"></centre>"
   ]
  },
  {
   "cell_type": "markdown",
   "id": "5f4be11a",
   "metadata": {},
   "source": [
    "<centre><img src=\"./sim-ej5-v2.png\"></centre>"
   ]
  }
 ],
 "metadata": {
  "kernelspec": {
   "display_name": "Python 3 (ipykernel)",
   "language": "python",
   "name": "python3"
  },
  "language_info": {
   "codemirror_mode": {
    "name": "ipython",
    "version": 3
   },
   "file_extension": ".py",
   "mimetype": "text/x-python",
   "name": "python",
   "nbconvert_exporter": "python",
   "pygments_lexer": "ipython3",
   "version": "3.9.7"
  }
 },
 "nbformat": 4,
 "nbformat_minor": 5
}
