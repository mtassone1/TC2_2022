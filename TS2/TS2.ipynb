{
 "cells": [
  {
   "cell_type": "markdown",
   "id": "f05a0f18",
   "metadata": {},
   "source": [
    "# Tarea Semanal N°2\n",
    "###### Matías Blas Tassone R4052"
   ]
  },
  {
   "cell_type": "markdown",
   "id": "1882d911",
   "metadata": {},
   "source": [
    "&emsp;1.&emsp;&emsp;A partir del siguiente circuito se calcula la transferencia $T(s)=\\frac{V_i}{V_o}$ en función de $\\omega_0$ y $Q$"
   ]
  },
  {
   "cell_type": "markdown",
   "id": "d50e492c",
   "metadata": {},
   "source": [
    "<centre><img src=\"./init3.png\"></centre>"
   ]
  },
  {
   "cell_type": "markdown",
   "id": "1ec39afe",
   "metadata": {},
   "source": [
    "Para el análisis del circuito se lo divide en bloques. IOP1 actúa como un sumador de las señales $V_i$ y $V_o$ a través de $R_1$ y $R_3$ respectivamente y realimentado con una $Z_f$. IOP3 actúa como un simple inversor y como las $R_4$ son iguales, pone la tensión $-V_o$ en su salida. Se obtienen 3 ecuaciones."
   ]
  },
  {
   "cell_type": "markdown",
   "id": "05326a0d",
   "metadata": {},
   "source": [
    "&emsp;&emsp;&emsp;$$(1) \\;\\;\\;\\;\\;V_x = -\\frac{Z_f}{R_1}\\cdot V_i -\\frac{Z_f}{R_3}\\cdot V_o $$\n",
    "&emsp;&emsp;&emsp;$$(2) \\;\\;\\;\\;\\;Z_f = \\frac{1}{sC+\\frac{1}{R_2}}$$\n",
    "&emsp;&emsp;&emsp;$$(3) \\;\\;\\;\\;\\;\\frac{V_x}{R_3} = [0 - (-V_o)]\\cdot sC = V_o\\cdot sC$$"
   ]
  },
  {
   "cell_type": "markdown",
   "id": "fa45dddf",
   "metadata": {},
   "source": [
    "&emsp;&emsp;&emsp;$$V_x = -\\frac{1}{R_1(sC+\\frac{1}{R_2})} \\cdot V_i -\\frac{1}{R_3(sC + \\frac{1}{R_2})} \\cdot V_o = V_o \\cdot sCR_3$$"
   ]
  },
  {
   "cell_type": "markdown",
   "id": "cd4a7973",
   "metadata": {},
   "source": [
    "&emsp;&emsp;&emsp;$$[\\frac{1}{R_3(sC + \\frac{1}{R_2})} + sCR_3] \\cdot V_o = -\\frac{1}{R_1(sC+\\frac{1}{R_2})} \\cdot V_i$$\n",
    "&emsp;&emsp;&emsp;$$[\\frac{s^2 \\cdot (R_3 C)^2+s \\cdot C \\frac{(R_3)^2}{R_2}+1}{R_3(sC + \\frac{1}{R_2})}] \\cdot V_o = -\\frac{1}{R_1(sC+\\frac{1}{R_2})} \\cdot V_i$$"
   ]
  },
  {
   "cell_type": "markdown",
   "id": "cffecbf4",
   "metadata": {},
   "source": [
    "&emsp;&emsp;&emsp;$$T(s)=\\frac{V_o}{V_i}=-\\frac{1}{R_1(sC+\\frac{1}{R_2})} \\cdot \\frac{R_3(sC + \\frac{1}{R_2})}{s^2 \\cdot (R_3 C)^2+s \\cdot C \\frac{(R_3)^2}{R_2}+1}$$\n",
    "$$T(s)=\\frac{V_o}{V_i}=-\\frac{R_3}{R_1} \\cdot \\frac{\\frac{1}{(R_3 C)^2}}{s^2+s \\cdot\\frac{1}{R_2 C}+\\frac{1}{(R_3 C)^2}}$$"
   ]
  },
  {
   "cell_type": "markdown",
   "id": "b19b440c",
   "metadata": {},
   "source": [
    "$$T(s) = \\frac{-k \\cdot \\omega_o ^2}{s^2+s \\cdot\\frac{\\omega_o}{Q}+\\omega_o^2}\\;\\;\\;\\;\\; k = \\frac{R_3}{R_1} \\;\\;\\;\\;\\;\\omega_0 = \\frac{1}{R_3C}\\;\\;\\;\\;\\;Q = \\frac{R_2}{R_3}$$"
   ]
  },
  {
   "cell_type": "markdown",
   "id": "7378475c",
   "metadata": {},
   "source": [
    "&emsp;2.&emsp;&emsp; Para obtener $\\omega_o = 1$ y $Q = 3$ elijo que $R_3=C=1$, lo que deja los valores de $Q$ y $k$ dependiendo solamente de una $R$. Por lo tanto tomo $R_2=3$ y $R_1=\\frac{1}{10}$ para tener ganancia de $20 dB$ en contínua. Se simula con el siguiente circuito."
   ]
  },
  {
   "cell_type": "markdown",
   "id": "097e34bf",
   "metadata": {},
   "source": [
    "<center><img src=\"./circ-spice-1.png\"></center>"
   ]
  },
  {
   "cell_type": "markdown",
   "id": "43c4e80c",
   "metadata": {},
   "source": [
    "<center><img src=\"./sim-norm.png\" width=\"850\"></center>"
   ]
  },
  {
   "cell_type": "markdown",
   "id": "02525bc7",
   "metadata": {},
   "source": [
    "### Bonus\n",
    "##### Red normalizada en frecuencia e impedancia"
   ]
  },
  {
   "cell_type": "markdown",
   "id": "bc755b68",
   "metadata": {},
   "source": [
    "Como el valor de $\\frac{1}{R_3C}$ simboliza una $\\omega$, la utilizaremos como norma de frecuencia $\\Omega_\\omega=\\omega_o=\\frac{1}{R_3C}$, entonces la función transferencia normalizada en frecuencia nos quedaría"
   ]
  },
  {
   "cell_type": "markdown",
   "id": "d5cf6808",
   "metadata": {},
   "source": [
    "$$ $=\\frac{s}{\\Omega_\\omega}\\;\\;\\;\\;\\;\\;\\;\\;\\;\\; T_{N\\omega}($)=-\\frac{R_3}{R_1} \\cdot \\frac{\\omega_o^2}{($\\cdot \\omega_o)^2+$\\cdot \\omega_o \\cdot\\omega_o\\cdot\\frac{R_3}{R_2}+\\omega_o^2}$$"
   ]
  },
  {
   "cell_type": "markdown",
   "id": "1c9e00f3",
   "metadata": {},
   "source": [
    "$$T_{N\\omega}($) = -\\frac{R_3}{R_1} \\cdot \\frac{1}{$^2+$\\cdot\\frac{R_3}{R_2}+1}$$"
   ]
  },
  {
   "cell_type": "markdown",
   "id": "9c755035",
   "metadata": {},
   "source": [
    "Para normalizar en impedancia, tomaremos una norma $\\Omega_Z = R \\;\\;(arbitraria)$ y los parámetros del circuito quedarán asociados a las resistencias junto con la norma."
   ]
  },
  {
   "cell_type": "markdown",
   "id": "b420f7f3",
   "metadata": {},
   "source": [
    "$$ R_3 = \\Omega_Z  \\;\\;\\;\\;\\; R_2 = \\Omega_Z \\cdot Q \\;\\;\\;\\;\\; R_1 = \\Omega_Z \\cdot\\frac{1}{k}$$\n",
    "$$T_N($) = -k\\cdot \\frac{1}{$^2+$\\cdot\\frac{1}{Q}+1}$$"
   ]
  },
  {
   "cell_type": "markdown",
   "id": "8f0ebfb9",
   "metadata": {},
   "source": [
    "##### Cálculo sensibilidades"
   ]
  },
  {
   "cell_type": "markdown",
   "id": "833bf48c",
   "metadata": {},
   "source": [
    "Se simulan las sensibilidades para los valores de componentes de la consigna original con una tolerancia del 5%."
   ]
  },
  {
   "cell_type": "markdown",
   "id": "db338f0a",
   "metadata": {},
   "source": [
    "$$S_C^{\\omega_o}=\\frac{C}{\\omega_o}\\cdot\\frac{\\partial\\omega_o}{\\partial C}\\;\\;\\;\\;\\;\\;\\;\n",
    "S_{R_2}^{Q}=\\frac{R_2}{Q}\\cdot\\frac{\\partial Q}{\\partial R_2}\\;\\;\\;\\;\\;\\;\\;\n",
    "S_{R_3}^{Q}=\\frac{R_3}{Q}\\cdot\\frac{\\partial Q}{\\partial R_3}$$"
   ]
  },
  {
   "cell_type": "markdown",
   "id": "af609a3c",
   "metadata": {},
   "source": [
    "$$S_C^{\\omega_o} = \\frac{C}{\\frac{1}{R_3C}}\\cdot (-1)(R_3C)^{-2}=-\\frac{C^2R_3}{(CR_3)^2}$$\n",
    "$$S_C^{\\omega_o} = -\\frac{1}{R_3}$$"
   ]
  },
  {
   "cell_type": "markdown",
   "id": "eb238a50",
   "metadata": {},
   "source": [
    "<center><img src=\"./sens-C.png\"></center>"
   ]
  },
  {
   "cell_type": "markdown",
   "id": "db8306a7",
   "metadata": {},
   "source": [
    "$$S_{R_2}^{Q}=\\frac{R_2}{\\frac{R_2}{R_3}}\\cdot\\frac{1}{R_3}=1$$"
   ]
  },
  {
   "cell_type": "markdown",
   "id": "eb08bf51",
   "metadata": {},
   "source": [
    "<center><img src=\"./sens-R2.png\"></center>"
   ]
  },
  {
   "cell_type": "markdown",
   "id": "2a1a8ba3",
   "metadata": {},
   "source": [
    "$$S_{R_3}^{Q}=\\frac{R_3}{\\frac{R_2}{R_3}}\\cdot(-1)R_2(R_3)^{-2}=-1$$"
   ]
  },
  {
   "cell_type": "markdown",
   "id": "12b39c79",
   "metadata": {},
   "source": [
    "<center><img src=\"./sens-R3.png\"></center>"
   ]
  },
  {
   "cell_type": "markdown",
   "id": "c6f4f9e0",
   "metadata": {},
   "source": [
    "##### Transferencia Butterworth"
   ]
  },
  {
   "cell_type": "markdown",
   "id": "70ac5860",
   "metadata": {},
   "source": [
    "Una transferencia de Butterworth normalizada de segundo orden tiene la forma \n",
    "$$T_B(s) = \\frac{1}{s^2+\\sqrt{2}\\cdot s+1}$$"
   ]
  },
  {
   "cell_type": "markdown",
   "id": "850f0762",
   "metadata": {},
   "source": [
    "por lo que para este caso, se tomará $k=1$ y $Q=\\frac{1}{\\sqrt{2}}$, dando así los valores de $R_2=\\frac{1}{\\sqrt{2}}$ y $R_1=1$, manteniendo $R_3=C=1$ dado que se trabaja con la transferencia normalizada. Utilizando el mismo circuito que antes con los valores correspondientes, se obtiene la siguiente respuesta"
   ]
  },
  {
   "cell_type": "markdown",
   "id": "c492a1bf",
   "metadata": {},
   "source": [
    "<center><img src=\"./sim-butter-2.jpg\"></center>"
   ]
  },
  {
   "cell_type": "markdown",
   "id": "da8bae72",
   "metadata": {},
   "source": [
    "##### Circuito Pasabanda"
   ]
  },
  {
   "cell_type": "markdown",
   "id": "eb18e8d6",
   "metadata": {},
   "source": [
    "Para obtener un circuito pasabanda se busca tener una gran atenuación en contínua, es decir $k<1$ y un $Q$ muy alto y de un valor tal que el sobrepico sea del mismo tamaño que la atenuación (para no atenuar en $f_c$), logrando así que en la frecuencia de corte se comporte como un pasabanda. Para que el sobrepico en la frecuencia de corte sea igual a la atenuación de contínua $Q=\\frac{1}{k}$ por lo tanto $R_2=R_1$"
   ]
  },
  {
   "cell_type": "markdown",
   "id": "ba797fa3",
   "metadata": {},
   "source": [
    "<center><img src=\"./bpf.jpg\"></center>"
   ]
  },
  {
   "cell_type": "markdown",
   "id": "41114ba1",
   "metadata": {},
   "source": [
    "Podemos observar que se comporta en módulo exactamente como un filtro pasabanda pero el mismo es asimétrico, ya que tiene atenuación constante \"antes\" de la frecuencia de corte y después cae con una pendiente de $40\\frac{dB}{déc}$."
   ]
  }
 ],
 "metadata": {
  "kernelspec": {
   "display_name": "Python 3 (ipykernel)",
   "language": "python",
   "name": "python3"
  },
  "language_info": {
   "codemirror_mode": {
    "name": "ipython",
    "version": 3
   },
   "file_extension": ".py",
   "mimetype": "text/x-python",
   "name": "python",
   "nbconvert_exporter": "python",
   "pygments_lexer": "ipython3",
   "version": "3.9.7"
  }
 },
 "nbformat": 4,
 "nbformat_minor": 5
}
