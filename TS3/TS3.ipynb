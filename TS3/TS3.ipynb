{
 "cells": [
  {
   "cell_type": "markdown",
   "id": "d31c1cc6",
   "metadata": {},
   "source": [
    "# Tarea Semanal N°3\n",
    "###### Matías Blas Tassone R4052"
   ]
  },
  {
   "cell_type": "markdown",
   "id": "04d096be",
   "metadata": {},
   "source": [
    "&emsp;1.&emsp;&emsp; $\\Omega_\\omega = \\omega_P $ &emsp; &rarr; &emsp;&emsp;$\\omega_{PN} = 1$ &emsp;&emsp;&emsp; $\\omega_{SN} = \\frac{2}{7}$ "
   ]
  },
  {
   "cell_type": "markdown",
   "id": "4278dca3",
   "metadata": {},
   "source": [
    "$\\Omega_{SN} = \\frac{1}{\\omega_{SN}} = 3.5$&emsp;&emsp;&emsp; $\\Omega_{PN} = 1$"
   ]
  },
  {
   "cell_type": "markdown",
   "id": "122c8148",
   "metadata": {},
   "source": [
    "$\\epsilon ^2 = 10^{\\alpha_{max}/10}-1= 0.26$&emsp;&emsp;&emsp; $\\alpha_{min} = 10\\cdot log(1+\\epsilon^2 \\cdot \\Omega_{SN}^{2n})$ &rarr; $n = 4$"
   ]
  },
  {
   "cell_type": "markdown",
   "id": "79047381",
   "metadata": {},
   "source": [
    "$\\phi_{1,2} = \\pm \\frac{\\pi}{8}$&emsp;&rarr;&emsp;$Q_{1,2}=0.54$&emsp;&rarr;&emsp;$\\frac{1}{Q_{1,2}}=1.84$&emsp;&emsp;&emsp; $\\phi_{3,4} = \\pm \\frac{3\\pi}{8}$&emsp;&rarr;&emsp;$Q_{3,4}=1.3$&emsp;&rarr;&emsp;$\\frac{1}{Q_{3,4}}=0.76$"
   ]
  },
  {
   "cell_type": "markdown",
   "id": "b1a30518",
   "metadata": {},
   "source": [
    "$$T(s)_{LP}=\\frac{1}{s^2+ 1.84\\cdot s+1}\\cdot \\frac{1}{s^2+ 0.76\\cdot s+1}$$"
   ]
  },
  {
   "cell_type": "markdown",
   "id": "2c17ee82",
   "metadata": {},
   "source": [
    "Ahora hago el reemplazo $s = \\frac{1}{s}$ para tener el pasa altos"
   ]
  },
  {
   "cell_type": "markdown",
   "id": "2e5f50f3",
   "metadata": {},
   "source": [
    "$$T(s)_{HP}=\\frac{s^2}{s^2+ 1.84\\cdot s+1}\\cdot \\frac{s^2}{s^2+ 0.76\\cdot s+1}$$"
   ]
  },
  {
   "cell_type": "markdown",
   "id": "b03a6fb7",
   "metadata": {},
   "source": [
    "&emsp;&emsp;&emsp;&emsp;&emsp;&emsp;&emsp;&emsp;&emsp;&emsp;&emsp;&emsp;&emsp;&emsp;&emsp;&emsp;$p_{1,2}=-0.92 \\pm j 0.39$&emsp;&emsp;$p_{3,4}=-0.38 \\pm j 0.92$&emsp;&emsp; y los 4 ceros están en el origen"
   ]
  },
  {
   "cell_type": "markdown",
   "id": "bea0512c",
   "metadata": {},
   "source": [
    "&emsp;3."
   ]
  },
  {
   "cell_type": "markdown",
   "id": "2e68f8b6",
   "metadata": {},
   "source": [
    "<centre><img src=\"./pto-2.png\"></centre>"
   ]
  },
  {
   "cell_type": "markdown",
   "id": "afc5aea2",
   "metadata": {},
   "source": [
    "&emsp;4.&emsp;&emsp; $\\Omega_Z = 1K$ &emsp;&emsp; $\\omega_{bN} = \\Omega_{SN}\\cdot \\epsilon^{-\\frac{1}{n}} = 4.144$ &emsp;&rarr;&emsp; $\\omega_b = \\omega_{bN} \\cdot \\Omega_\\omega \\cdot 2\\pi = 8288 \\pi$"
   ]
  },
  {
   "cell_type": "markdown",
   "id": "01a404f9",
   "metadata": {},
   "source": [
    "$\\omega_b^2 = \\frac{1}{LC} = 6.78 \\cdot 10^8$ &emsp;&rarr;&emsp; $LC = 1.475 \\cdot 10^{-9}$ &emsp; \n",
    "elijo&emsp; $C=10\\mu F$&emsp;&rarr;&emsp; $L = 147.5\\mu H$"
   ]
  },
  {
   "cell_type": "markdown",
   "id": "e02f1503",
   "metadata": {},
   "source": [
    "$Q_{1,2} = \\frac{1}{R} \\cdot \\sqrt{\\frac{L}{C}}$ &emsp;&rarr;&emsp; $R_1 = \\frac{1}{0.54} \\cdot \\sqrt{14.75}= 7.1 \\Omega$ "
   ]
  },
  {
   "cell_type": "markdown",
   "id": "b1b6f505",
   "metadata": {},
   "source": [
    "$Q_{3,4} = \\frac{1}{R} \\cdot \\sqrt{\\frac{L}{C}}$ &emsp;&rarr;&emsp; $R_2= \\frac{1}{1.3} \\cdot \\sqrt{14.75} \\cdot \\Omega_Z = 2.95 \\Omega$ "
   ]
  }
 ],
 "metadata": {
  "kernelspec": {
   "display_name": "Python 3 (ipykernel)",
   "language": "python",
   "name": "python3"
  },
  "language_info": {
   "codemirror_mode": {
    "name": "ipython",
    "version": 3
   },
   "file_extension": ".py",
   "mimetype": "text/x-python",
   "name": "python",
   "nbconvert_exporter": "python",
   "pygments_lexer": "ipython3",
   "version": "3.9.7"
  }
 },
 "nbformat": 4,
 "nbformat_minor": 5
}
