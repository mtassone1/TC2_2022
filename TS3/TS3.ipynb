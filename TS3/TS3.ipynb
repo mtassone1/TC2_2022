{
 "cells": [
  {
   "cell_type": "markdown",
   "id": "d31c1cc6",
   "metadata": {},
   "source": [
    "# Tarea Semanal N°3\n",
    "###### Matías Blas Tassone R4052"
   ]
  },
  {
   "cell_type": "markdown",
   "id": "04d096be",
   "metadata": {},
   "source": [
    "&emsp;1.&emsp;&emsp; $\\Omega_\\omega = \\omega_P = 3500$ &emsp; &rarr; &emsp;&emsp;$\\omega_{PN} = 1$ &emsp;&emsp;&emsp; $\\omega_{SN} = \\frac{2}{7}$ "
   ]
  },
  {
   "cell_type": "markdown",
   "id": "4278dca3",
   "metadata": {},
   "source": [
    "$\\Omega_{SN} = \\frac{1}{\\omega_{SN}} = 3.5$&emsp;&emsp;&emsp; $\\Omega_{PN} = 1$"
   ]
  },
  {
   "cell_type": "markdown",
   "id": "122c8148",
   "metadata": {},
   "source": [
    "$\\epsilon ^2 = 10^{\\alpha_{max}/10}-1= 0.26$&emsp;&emsp;&emsp; $\\alpha_{min} = 10\\cdot log(1+\\epsilon^2 \\cdot \\Omega_{SN}^{2n})$ &rarr; $n = 4$"
   ]
  },
  {
   "cell_type": "markdown",
   "id": "79047381",
   "metadata": {},
   "source": [
    "$\\phi_{1,2} = \\pm \\frac{\\pi}{8}$&emsp;&rarr;&emsp;$Q_{1,2}=0.54$&emsp;&rarr;&emsp;$\\frac{1}{Q_{1,2}}=1.84$&emsp;&emsp;&emsp; $\\phi_{3,4} = \\pm \\frac{3\\pi}{8}$&emsp;&rarr;&emsp;$Q_{3,4}=1.3$&emsp;&rarr;&emsp;$\\frac{1}{Q_{3,4}}=0.76$"
   ]
  },
  {
   "cell_type": "markdown",
   "id": "b1a30518",
   "metadata": {},
   "source": [
    "$$T(s)_{LP}=\\frac{1}{s^2+ 1.84\\cdot s+1}\\cdot \\frac{1}{s^2+ 0.76\\cdot s+1}$$"
   ]
  },
  {
   "cell_type": "markdown",
   "id": "2c17ee82",
   "metadata": {},
   "source": [
    "Ahora hago el reemplazo $s = \\frac{1}{s}$ para tener el pasa altos"
   ]
  },
  {
   "cell_type": "markdown",
   "id": "2e5f50f3",
   "metadata": {},
   "source": [
    "$$T(s)_{HP}=\\frac{s^2}{s^2+ 1.84\\cdot s+1}\\cdot \\frac{s^2}{s^2+ 0.76\\cdot s+1}$$"
   ]
  },
  {
   "cell_type": "markdown",
   "id": "b03a6fb7",
   "metadata": {},
   "source": [
    "&emsp;&emsp;&emsp;&emsp;&emsp;&emsp;&emsp;&emsp;&emsp;&emsp;&emsp;&emsp;&emsp;&emsp;&emsp;&emsp;$p_{1,2}=-0.92 \\pm j 0.39$&emsp;&emsp;$p_{3,4}=-0.38 \\pm j 0.92$&emsp;&emsp; y los 4 ceros están en el origen"
   ]
  },
  {
   "cell_type": "markdown",
   "id": "bea0512c",
   "metadata": {},
   "source": [
    "&emsp;3."
   ]
  },
  {
   "cell_type": "markdown",
   "id": "2e68f8b6",
   "metadata": {},
   "source": [
    "<centre><img src=\"./pto-2.png\"></centre>"
   ]
  },
  {
   "cell_type": "markdown",
   "id": "afc5aea2",
   "metadata": {},
   "source": [
    "&emsp;4.&emsp;&emsp; $\\Omega_Z = 1K$ &emsp;&emsp; $\\omega_{b} = \\Omega_{\\omega}\\cdot \\epsilon^{\\frac{1}{n}} = 5912 \\pi$"
   ]
  },
  {
   "cell_type": "markdown",
   "id": "99e700af",
   "metadata": {},
   "source": [
    "$R_1 = \\Omega_Z=1k\\Omega$ &emsp; $C_{1N} = \\frac{1}{Q_1} = 1.84$ &emsp; $L_{1N} = Q_1 = 0.54$"
   ]
  },
  {
   "cell_type": "markdown",
   "id": "7e87bad0",
   "metadata": {},
   "source": [
    "$C_1 = \\frac{C_{1N}}{\\Omega_Z \\cdot \\Omega_\\omega} = 99 nF$ &emsp; $L_1 = \\frac{\\Omega_Z}{\\Omega_\\omega}  \\cdot L_{1N} = 29 mH$"
   ]
  },
  {
   "cell_type": "markdown",
   "id": "23605f39",
   "metadata": {},
   "source": [
    "$R_2 = \\Omega_Z=1k\\Omega$ &emsp; $C_{2N} = \\frac{1}{Q_2} = 0.76$ &emsp; $L_{2N} = Q_2 = 1.3$"
   ]
  },
  {
   "cell_type": "markdown",
   "id": "fae3e788",
   "metadata": {},
   "source": [
    "$C_2 = \\frac{C_{2N}}{\\Omega_Z \\cdot \\Omega_\\omega} = 41 nF$ &emsp; $L_2 = \\frac{\\Omega_Z}{\\Omega_\\omega}  \\cdot L_{2N} = 70 mH$"
   ]
  },
  {
   "cell_type": "markdown",
   "id": "4e430368",
   "metadata": {},
   "source": [
    "<centre><img src=\"./sim.png\"></centre>"
   ]
  },
  {
   "cell_type": "markdown",
   "id": "b4b6a53b",
   "metadata": {},
   "source": [
    "&emsp;5.&emsp;Se reemplazan los 2 inductores por GICs con sus respectivos valores para mantener el circuito igual. Como quiero que solamente cumpla la función de inductor, no tomo la salida sobre uno de los OPAMPs, sino que simplemente lo conecto como un inductor en derivación."
   ]
  },
  {
   "cell_type": "markdown",
   "id": "8dd1e75b",
   "metadata": {},
   "source": [
    "$Z = \\frac{Z_1 \\cdot Z_3 \\cdot Z_5}{Z_2 \\cdot Z_4}$ &emsp; elijo todas los resistores $R=\\Omega_Z=1k\\Omega$ y solo queda por definir el valor de la capacidad $Z_2=\\frac{1}{s\\cdot C}$."
   ]
  },
  {
   "cell_type": "markdown",
   "id": "abaf79fa",
   "metadata": {},
   "source": [
    "$Z=10^6 \\cdot s\\cdot C_1 = s \\cdot L_1 = s \\cdot 29.10^{-3}$ &emsp;&rarr;&emsp; $C_1 = 29 nF$"
   ]
  },
  {
   "cell_type": "markdown",
   "id": "3f898592",
   "metadata": {},
   "source": [
    "$Z=10^6 \\cdot s\\cdot C_2 = s \\cdot L_2 = s \\cdot 70.10^{-3}$ &emsp;&rarr;&emsp; $C_1 = 70 nF$"
   ]
  },
  {
   "cell_type": "markdown",
   "id": "2c79feef",
   "metadata": {},
   "source": [
    "<centre><img src=\"./circ-2.png\"></centre>"
   ]
  },
  {
   "cell_type": "markdown",
   "id": "4720b411",
   "metadata": {},
   "source": [
    "<centre><img src=\"./sim-2.png\"></centre>"
   ]
  },
  {
   "cell_type": "markdown",
   "id": "86bf1deb",
   "metadata": {},
   "source": [
    "### Bonus"
   ]
  },
  {
   "cell_type": "markdown",
   "id": "8da032d9",
   "metadata": {},
   "source": [
    "Los valores normalizados en frecuencia e impedancia son los obtenidos ya en los puntos anteriores"
   ]
  },
  {
   "cell_type": "markdown",
   "id": "5c949726",
   "metadata": {},
   "source": [
    "$R_{1N} = 1$ &emsp; $C_{1N} =\\frac{1}{Q_1} = 1.84$ &emsp; $L_{1N} = Q_1 = 0.54$\n",
    "&emsp;$R_{2N} = 1$ &emsp; $C_{2N} =\\frac{1}{Q_2} = 0.76$ &emsp; $L_{2N} = Q_2 = 1.3$"
   ]
  }
 ],
 "metadata": {
  "kernelspec": {
   "display_name": "Python 3 (ipykernel)",
   "language": "python",
   "name": "python3"
  },
  "language_info": {
   "codemirror_mode": {
    "name": "ipython",
    "version": 3
   },
   "file_extension": ".py",
   "mimetype": "text/x-python",
   "name": "python",
   "nbconvert_exporter": "python",
   "pygments_lexer": "ipython3",
   "version": "3.9.7"
  }
 },
 "nbformat": 4,
 "nbformat_minor": 5
}
